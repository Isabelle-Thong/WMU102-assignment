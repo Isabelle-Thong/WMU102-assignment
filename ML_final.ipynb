{
  "nbformat": 4,
  "nbformat_minor": 0,
  "metadata": {
    "colab": {
      "name": "ML final.ipynb",
      "provenance": [],
      "collapsed_sections": [
        "4Xtdnt5sVIMa",
        "guWxIUeRVd9f",
        "2Gw7MBQ4V9tj",
        "RFUs3cODWMet",
        "kokjwblNWw3t",
        "vzaG7bL9bVv7",
        "0ijsXKxztAsb",
        "TUdGEty2yJ46"
      ],
      "authorship_tag": "ABX9TyPAaHH69nAzBiwtvBRtDyEo",
      "include_colab_link": true
    },
    "kernelspec": {
      "name": "python3",
      "display_name": "Python 3"
    },
    "language_info": {
      "name": "python"
    }
  },
  "cells": [
    {
      "cell_type": "markdown",
      "metadata": {
        "id": "view-in-github",
        "colab_type": "text"
      },
      "source": [
        "<a href=\"https://colab.research.google.com/github/Isabelle-Thong/WMU102-assignment/blob/main/ML_final.ipynb\" target=\"_parent\"><img src=\"https://colab.research.google.com/assets/colab-badge.svg\" alt=\"Open In Colab\"/></a>"
      ]
    },
    {
      "cell_type": "markdown",
      "metadata": {
        "id": "DA9bS4lTpbb0"
      },
      "source": [
        "#**Diabetes Prediction with Machine Learning**\n",
        "\n",
        "##**Introduction**##\n",
        "**Diabetes mellitus (DM)** is a group of metabolic disorders characterized by a high blood sugar level over a prolonged period of time which may lead to serious implications to eyes, kidneys and heart. Type 1 diabetes resulted from the failure of pancrease to produce sufficient amount of insulin, while Type 2 diabetes resulted from insulin resistance. (source: https://en.wikipedia.org/wiki/Diabetes)\n",
        "\n",
        "As of 2020, diabetes has affected up to 3.6 million of the Malaysian population (16.8%). There is an alarming trend that estimated 7 millions Malaysian adults aged 18 years and older will develop diabetes by 2025. (source: https://lifecarediagnostic.com/diabetes-a-worrying-trend-in-malaysia/)\n",
        "\n",
        "**Data analytics and machine learning** play an important role in studying huge datasets to find hidden trends or information from the data and predict outcomes accordingly. In this project, we have proposed a few diabetes prediction models and compare their accuracy for better classification of diabetes based on a few external factors including Glucose, BMI, Age, Insulin, Pregnancies etc.\n",
        "\n",
        "\n",
        "\n",
        "\n",
        "\n"
      ]
    },
    {
      "cell_type": "markdown",
      "metadata": {
        "id": "ONA4FJzLHsei"
      },
      "source": [
        "For this machine learning project, we choose a dataset from the **medical domain**, diabetes. We build this machine learning model to **predict whether a patient has diabetes or not** by interpreting the variables given.\n",
        "\n",
        "Steps:\n",
        "1.\tImport Necessary Libraries\n",
        "2.\tRead In and Explore the Data\n",
        "3.\tData Analysis\n",
        "4.\tData Cleaning\n",
        "5.  Data Visualization\n",
        "6.\tChoosing the Best Model\n",
        "7.\tDiscussion\n",
        "8.  Conclusion"
      ]
    },
    {
      "cell_type": "markdown",
      "metadata": {
        "id": "rVvEAwK4p67N"
      },
      "source": [
        "##**1. Import necessary Libraries**\n",
        "Firstly, we need to import necessary libraries such as pandas, numpy and seaborn."
      ]
    },
    {
      "cell_type": "code",
      "metadata": {
        "id": "DdXIxOsGo5Qm"
      },
      "source": [
        "import pandas as pd\n",
        "import pandas_profiling\n",
        "import numpy as np\n",
        "import seaborn as sns\n",
        "import matplotlib.pyplot as plt\n",
        "%matplotlib inline"
      ],
      "execution_count": 1,
      "outputs": []
    },
    {
      "cell_type": "markdown",
      "metadata": {
        "id": "lXHAoLd1qZ51"
      },
      "source": [
        "Next, we upload the dataset: diabetes.csv"
      ]
    },
    {
      "cell_type": "code",
      "metadata": {
        "id": "XXjshyD6qWbo",
        "colab": {
          "resources": {
            "http://localhost:8080/nbextensions/google.colab/files.js": {
              "data": "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",
              "ok": true,
              "headers": [
                [
                  "content-type",
                  "application/javascript"
                ]
              ],
              "status": 200,
              "status_text": ""
            }
          },
          "base_uri": "https://localhost:8080/",
          "height": 72
        },
        "outputId": "3dfd1e11-59ac-4889-9b33-545f55f11c52"
      },
      "source": [
        "from google.colab import files\n",
        "uploaded = files.upload()"
      ],
      "execution_count": 2,
      "outputs": [
        {
          "output_type": "display_data",
          "data": {
            "text/html": [
              "\n",
              "     <input type=\"file\" id=\"files-023fed08-dfb4-4252-b85a-b1fd2e91ebe5\" name=\"files[]\" multiple disabled\n",
              "        style=\"border:none\" />\n",
              "     <output id=\"result-023fed08-dfb4-4252-b85a-b1fd2e91ebe5\">\n",
              "      Upload widget is only available when the cell has been executed in the\n",
              "      current browser session. Please rerun this cell to enable.\n",
              "      </output>\n",
              "      <script src=\"/nbextensions/google.colab/files.js\"></script> "
            ],
            "text/plain": [
              "<IPython.core.display.HTML object>"
            ]
          },
          "metadata": {
            "tags": []
          }
        },
        {
          "output_type": "stream",
          "text": [
            "Saving diabetes.csv to diabetes.csv\n"
          ],
          "name": "stdout"
        }
      ]
    },
    {
      "cell_type": "markdown",
      "metadata": {
        "id": "g15fTxFco6vZ"
      },
      "source": [
        "##**2. Read in and Explore the Data**\n",
        "It is time to read in our training and testing data using pd.read_csv and take a first look at the training data using the describe function, df().\n"
      ]
    },
    {
      "cell_type": "code",
      "metadata": {
        "id": "thYF6QAnRwLd"
      },
      "source": [
        "df = pd.read_csv('diabetes.csv')"
      ],
      "execution_count": 3,
      "outputs": []
    },
    {
      "cell_type": "code",
      "metadata": {
        "colab": {
          "base_uri": "https://localhost:8080/",
          "height": 419
        },
        "id": "St0CrpzTR8Lm",
        "outputId": "ec039e94-3ed1-429c-f75b-1cffd696c19a"
      },
      "source": [
        "df"
      ],
      "execution_count": 4,
      "outputs": [
        {
          "output_type": "execute_result",
          "data": {
            "text/html": [
              "<div>\n",
              "<style scoped>\n",
              "    .dataframe tbody tr th:only-of-type {\n",
              "        vertical-align: middle;\n",
              "    }\n",
              "\n",
              "    .dataframe tbody tr th {\n",
              "        vertical-align: top;\n",
              "    }\n",
              "\n",
              "    .dataframe thead th {\n",
              "        text-align: right;\n",
              "    }\n",
              "</style>\n",
              "<table border=\"1\" class=\"dataframe\">\n",
              "  <thead>\n",
              "    <tr style=\"text-align: right;\">\n",
              "      <th></th>\n",
              "      <th>Pregnancies</th>\n",
              "      <th>Glucose</th>\n",
              "      <th>BloodPressure</th>\n",
              "      <th>SkinThickness</th>\n",
              "      <th>Insulin</th>\n",
              "      <th>BMI</th>\n",
              "      <th>DiabetesPedigreeFunction</th>\n",
              "      <th>Age</th>\n",
              "      <th>Outcome</th>\n",
              "    </tr>\n",
              "  </thead>\n",
              "  <tbody>\n",
              "    <tr>\n",
              "      <th>0</th>\n",
              "      <td>2</td>\n",
              "      <td>138</td>\n",
              "      <td>62</td>\n",
              "      <td>35</td>\n",
              "      <td>0</td>\n",
              "      <td>33.6</td>\n",
              "      <td>0.127</td>\n",
              "      <td>47</td>\n",
              "      <td>1</td>\n",
              "    </tr>\n",
              "    <tr>\n",
              "      <th>1</th>\n",
              "      <td>0</td>\n",
              "      <td>84</td>\n",
              "      <td>82</td>\n",
              "      <td>31</td>\n",
              "      <td>125</td>\n",
              "      <td>38.2</td>\n",
              "      <td>0.233</td>\n",
              "      <td>23</td>\n",
              "      <td>0</td>\n",
              "    </tr>\n",
              "    <tr>\n",
              "      <th>2</th>\n",
              "      <td>0</td>\n",
              "      <td>145</td>\n",
              "      <td>0</td>\n",
              "      <td>0</td>\n",
              "      <td>0</td>\n",
              "      <td>44.2</td>\n",
              "      <td>0.630</td>\n",
              "      <td>31</td>\n",
              "      <td>1</td>\n",
              "    </tr>\n",
              "    <tr>\n",
              "      <th>3</th>\n",
              "      <td>0</td>\n",
              "      <td>135</td>\n",
              "      <td>68</td>\n",
              "      <td>42</td>\n",
              "      <td>250</td>\n",
              "      <td>42.3</td>\n",
              "      <td>0.365</td>\n",
              "      <td>24</td>\n",
              "      <td>1</td>\n",
              "    </tr>\n",
              "    <tr>\n",
              "      <th>4</th>\n",
              "      <td>1</td>\n",
              "      <td>139</td>\n",
              "      <td>62</td>\n",
              "      <td>41</td>\n",
              "      <td>480</td>\n",
              "      <td>40.7</td>\n",
              "      <td>0.536</td>\n",
              "      <td>21</td>\n",
              "      <td>0</td>\n",
              "    </tr>\n",
              "    <tr>\n",
              "      <th>...</th>\n",
              "      <td>...</td>\n",
              "      <td>...</td>\n",
              "      <td>...</td>\n",
              "      <td>...</td>\n",
              "      <td>...</td>\n",
              "      <td>...</td>\n",
              "      <td>...</td>\n",
              "      <td>...</td>\n",
              "      <td>...</td>\n",
              "    </tr>\n",
              "    <tr>\n",
              "      <th>1995</th>\n",
              "      <td>2</td>\n",
              "      <td>75</td>\n",
              "      <td>64</td>\n",
              "      <td>24</td>\n",
              "      <td>55</td>\n",
              "      <td>29.7</td>\n",
              "      <td>0.370</td>\n",
              "      <td>33</td>\n",
              "      <td>0</td>\n",
              "    </tr>\n",
              "    <tr>\n",
              "      <th>1996</th>\n",
              "      <td>8</td>\n",
              "      <td>179</td>\n",
              "      <td>72</td>\n",
              "      <td>42</td>\n",
              "      <td>130</td>\n",
              "      <td>32.7</td>\n",
              "      <td>0.719</td>\n",
              "      <td>36</td>\n",
              "      <td>1</td>\n",
              "    </tr>\n",
              "    <tr>\n",
              "      <th>1997</th>\n",
              "      <td>6</td>\n",
              "      <td>85</td>\n",
              "      <td>78</td>\n",
              "      <td>0</td>\n",
              "      <td>0</td>\n",
              "      <td>31.2</td>\n",
              "      <td>0.382</td>\n",
              "      <td>42</td>\n",
              "      <td>0</td>\n",
              "    </tr>\n",
              "    <tr>\n",
              "      <th>1998</th>\n",
              "      <td>0</td>\n",
              "      <td>129</td>\n",
              "      <td>110</td>\n",
              "      <td>46</td>\n",
              "      <td>130</td>\n",
              "      <td>67.1</td>\n",
              "      <td>0.319</td>\n",
              "      <td>26</td>\n",
              "      <td>1</td>\n",
              "    </tr>\n",
              "    <tr>\n",
              "      <th>1999</th>\n",
              "      <td>2</td>\n",
              "      <td>81</td>\n",
              "      <td>72</td>\n",
              "      <td>15</td>\n",
              "      <td>76</td>\n",
              "      <td>30.1</td>\n",
              "      <td>0.547</td>\n",
              "      <td>25</td>\n",
              "      <td>0</td>\n",
              "    </tr>\n",
              "  </tbody>\n",
              "</table>\n",
              "<p>2000 rows × 9 columns</p>\n",
              "</div>"
            ],
            "text/plain": [
              "      Pregnancies  Glucose  ...  Age  Outcome\n",
              "0               2      138  ...   47        1\n",
              "1               0       84  ...   23        0\n",
              "2               0      145  ...   31        1\n",
              "3               0      135  ...   24        1\n",
              "4               1      139  ...   21        0\n",
              "...           ...      ...  ...  ...      ...\n",
              "1995            2       75  ...   33        0\n",
              "1996            8      179  ...   36        1\n",
              "1997            6       85  ...   42        0\n",
              "1998            0      129  ...   26        1\n",
              "1999            2       81  ...   25        0\n",
              "\n",
              "[2000 rows x 9 columns]"
            ]
          },
          "metadata": {
            "tags": []
          },
          "execution_count": 4
        }
      ]
    },
    {
      "cell_type": "markdown",
      "metadata": {
        "id": "ruXuoGOGSjXx"
      },
      "source": [
        "**Dataset:**\n",
        "Dataset of diabetes, taken from the hospital Frankfurt, Germany: https://www.kaggle.com/johndasilva/diabetes\n",
        "\n",
        "Description obtained from the dataset source is unclear, hence, we define the variables given based on common sense and similar datasets of diabetes.\n",
        "\n",
        "The features above are used to predict whether a person is diabetic or not:\n",
        "* Pregnancies: Number of times pregnant\n",
        "* Glucose: Plasma glucose concentration after 2 hours in an oral glucose tolerance test\n",
        "* BloodPressure: Diastolic blood pressure (mm Hg)\n",
        "* \tSkinThickness: Triceps skin fold thickness (mm)\n",
        "* \tInsulin: 2-Hour serum insulin (mIU/ml)\n",
        "* \tBMI: Body mass index (weight in kg/(height in m)2)\n",
        "* \tDiabetesPedigreeFunction: Diabetes pedigree function (a function which scores likelihood of diabetes based on family history)\n",
        "* Age: Age (years)\n",
        "* \tOutcome: Class variable (0 if non-diabetic, 1 if diabetic)\n"
      ]
    },
    {
      "cell_type": "code",
      "metadata": {
        "colab": {
          "base_uri": "https://localhost:8080/",
          "height": 297
        },
        "id": "JPMjuiQATRW7",
        "outputId": "6bee7a9e-dfea-4908-e4f7-4c7dd5b2b280"
      },
      "source": [
        "df.describe(include=\"all\")"
      ],
      "execution_count": 5,
      "outputs": [
        {
          "output_type": "execute_result",
          "data": {
            "text/html": [
              "<div>\n",
              "<style scoped>\n",
              "    .dataframe tbody tr th:only-of-type {\n",
              "        vertical-align: middle;\n",
              "    }\n",
              "\n",
              "    .dataframe tbody tr th {\n",
              "        vertical-align: top;\n",
              "    }\n",
              "\n",
              "    .dataframe thead th {\n",
              "        text-align: right;\n",
              "    }\n",
              "</style>\n",
              "<table border=\"1\" class=\"dataframe\">\n",
              "  <thead>\n",
              "    <tr style=\"text-align: right;\">\n",
              "      <th></th>\n",
              "      <th>Pregnancies</th>\n",
              "      <th>Glucose</th>\n",
              "      <th>BloodPressure</th>\n",
              "      <th>SkinThickness</th>\n",
              "      <th>Insulin</th>\n",
              "      <th>BMI</th>\n",
              "      <th>DiabetesPedigreeFunction</th>\n",
              "      <th>Age</th>\n",
              "      <th>Outcome</th>\n",
              "    </tr>\n",
              "  </thead>\n",
              "  <tbody>\n",
              "    <tr>\n",
              "      <th>count</th>\n",
              "      <td>2000.000000</td>\n",
              "      <td>2000.000000</td>\n",
              "      <td>2000.000000</td>\n",
              "      <td>2000.000000</td>\n",
              "      <td>2000.000000</td>\n",
              "      <td>2000.000000</td>\n",
              "      <td>2000.000000</td>\n",
              "      <td>2000.000000</td>\n",
              "      <td>2000.000000</td>\n",
              "    </tr>\n",
              "    <tr>\n",
              "      <th>mean</th>\n",
              "      <td>3.703500</td>\n",
              "      <td>121.182500</td>\n",
              "      <td>69.145500</td>\n",
              "      <td>20.935000</td>\n",
              "      <td>80.254000</td>\n",
              "      <td>32.193000</td>\n",
              "      <td>0.470930</td>\n",
              "      <td>33.090500</td>\n",
              "      <td>0.342000</td>\n",
              "    </tr>\n",
              "    <tr>\n",
              "      <th>std</th>\n",
              "      <td>3.306063</td>\n",
              "      <td>32.068636</td>\n",
              "      <td>19.188315</td>\n",
              "      <td>16.103243</td>\n",
              "      <td>111.180534</td>\n",
              "      <td>8.149901</td>\n",
              "      <td>0.323553</td>\n",
              "      <td>11.786423</td>\n",
              "      <td>0.474498</td>\n",
              "    </tr>\n",
              "    <tr>\n",
              "      <th>min</th>\n",
              "      <td>0.000000</td>\n",
              "      <td>0.000000</td>\n",
              "      <td>0.000000</td>\n",
              "      <td>0.000000</td>\n",
              "      <td>0.000000</td>\n",
              "      <td>0.000000</td>\n",
              "      <td>0.078000</td>\n",
              "      <td>21.000000</td>\n",
              "      <td>0.000000</td>\n",
              "    </tr>\n",
              "    <tr>\n",
              "      <th>25%</th>\n",
              "      <td>1.000000</td>\n",
              "      <td>99.000000</td>\n",
              "      <td>63.500000</td>\n",
              "      <td>0.000000</td>\n",
              "      <td>0.000000</td>\n",
              "      <td>27.375000</td>\n",
              "      <td>0.244000</td>\n",
              "      <td>24.000000</td>\n",
              "      <td>0.000000</td>\n",
              "    </tr>\n",
              "    <tr>\n",
              "      <th>50%</th>\n",
              "      <td>3.000000</td>\n",
              "      <td>117.000000</td>\n",
              "      <td>72.000000</td>\n",
              "      <td>23.000000</td>\n",
              "      <td>40.000000</td>\n",
              "      <td>32.300000</td>\n",
              "      <td>0.376000</td>\n",
              "      <td>29.000000</td>\n",
              "      <td>0.000000</td>\n",
              "    </tr>\n",
              "    <tr>\n",
              "      <th>75%</th>\n",
              "      <td>6.000000</td>\n",
              "      <td>141.000000</td>\n",
              "      <td>80.000000</td>\n",
              "      <td>32.000000</td>\n",
              "      <td>130.000000</td>\n",
              "      <td>36.800000</td>\n",
              "      <td>0.624000</td>\n",
              "      <td>40.000000</td>\n",
              "      <td>1.000000</td>\n",
              "    </tr>\n",
              "    <tr>\n",
              "      <th>max</th>\n",
              "      <td>17.000000</td>\n",
              "      <td>199.000000</td>\n",
              "      <td>122.000000</td>\n",
              "      <td>110.000000</td>\n",
              "      <td>744.000000</td>\n",
              "      <td>80.600000</td>\n",
              "      <td>2.420000</td>\n",
              "      <td>81.000000</td>\n",
              "      <td>1.000000</td>\n",
              "    </tr>\n",
              "  </tbody>\n",
              "</table>\n",
              "</div>"
            ],
            "text/plain": [
              "       Pregnancies      Glucose  ...          Age      Outcome\n",
              "count  2000.000000  2000.000000  ...  2000.000000  2000.000000\n",
              "mean      3.703500   121.182500  ...    33.090500     0.342000\n",
              "std       3.306063    32.068636  ...    11.786423     0.474498\n",
              "min       0.000000     0.000000  ...    21.000000     0.000000\n",
              "25%       1.000000    99.000000  ...    24.000000     0.000000\n",
              "50%       3.000000   117.000000  ...    29.000000     0.000000\n",
              "75%       6.000000   141.000000  ...    40.000000     1.000000\n",
              "max      17.000000   199.000000  ...    81.000000     1.000000\n",
              "\n",
              "[8 rows x 9 columns]"
            ]
          },
          "metadata": {
            "tags": []
          },
          "execution_count": 5
        }
      ]
    },
    {
      "cell_type": "markdown",
      "metadata": {
        "id": "lTetfN-dTs0F"
      },
      "source": [
        "There are a total of 2000 patients in our dataset. \n",
        "\n",
        "1. **Pregnancies**: In 2020, fertility rate for Malaysia was 1.97 children per woman. Assuming one child per childbirth, the average of times of pregnancies from the dataset is ~3.7, generally higher than the average in Malaysia (source: https://knoema.com/atlas/Malaysia/topics/Demographics/Fertility/Fertility-rate?origin=cn.knoema.com)\n",
        "2. **Glucose**: According to the dataset, there are 25% of the patients have glucose level higher than 141 mg/dL, indicating abnormal glucose tolerance.\n",
        "3. **BloodPressure**: According to the dataset, there are 25% of the patients have blood pressure higher than 80 mm Hg, indicating high blood pressure.\n",
        "4. **BMI**: From the dataset, at least 75% of the patients are overweight or obese, with BMI higher than 25 kg/m^2. As comparison, 1 in 2 Malaysian has obesity as of 2019. (source: National Health and Morbidity Survey 2019, from http://iptk.moh.gov.my/images/technical_report/2020/4_Infographic_Booklet_NHMS_2019_-_English.pdf)\n",
        "\n",
        "\n"
      ]
    },
    {
      "cell_type": "markdown",
      "metadata": {
        "id": "nvmLiLrAuifO"
      },
      "source": [
        "**Note!!**\n",
        "\n",
        "This is an **imbalance dataset** since the mean for 'Outcome' is 0.342, which is skewed towards not diabetic. This factor has to be taken seriously in the following data analysis.\n",
        "\n",
        "(For more accuracy, **oversampling or undersampling** of data is suggested.)"
      ]
    },
    {
      "cell_type": "markdown",
      "metadata": {
        "id": "r1k7B63TX5cN"
      },
      "source": [
        "##**3. Data Analysis**\n",
        "We are going to consider the features in the dataset and how complete they are.\n"
      ]
    },
    {
      "cell_type": "markdown",
      "metadata": {
        "id": "ofdOfAUjbv_i"
      },
      "source": [
        "Numerical features : Pregnancies (Discrete), Glucose (Continuous),  BloodPressure(Continuous),  SkinThickness (Continuous), Insulin (Continuous), BMI (Continuous), DiabetesPedigreeFunction (Continuous), Age (Discrete)\n",
        "\n",
        "What are the data types for each feature?\n",
        "*\tPregnancies : int64\n",
        "*\tGlucose : float64\n",
        "*\tBloodPressure : float64\n",
        "*\tSkinThickness : float64\n",
        "*\tInsulin : float64\n",
        "*\tBMI : float64\n",
        "*\tDiabetesPedigreeFunction : float64\n",
        "*\tAge : int64\n",
        "\n",
        "We have two int64 and six float64, discrete variables are usually of the int type while continuous variables are usually of float type. \n"
      ]
    },
    {
      "cell_type": "code",
      "metadata": {
        "colab": {
          "base_uri": "https://localhost:8080/"
        },
        "id": "5NYGlmFpTmt2",
        "outputId": "184ddcaa-5698-412a-f2d8-43b6b9f37b9c"
      },
      "source": [
        "print(df.columns)"
      ],
      "execution_count": 6,
      "outputs": [
        {
          "output_type": "stream",
          "text": [
            "Index(['Pregnancies', 'Glucose', 'BloodPressure', 'SkinThickness', 'Insulin',\n",
            "       'BMI', 'DiabetesPedigreeFunction', 'Age', 'Outcome'],\n",
            "      dtype='object')\n"
          ],
          "name": "stdout"
        }
      ]
    },
    {
      "cell_type": "code",
      "metadata": {
        "colab": {
          "base_uri": "https://localhost:8080/"
        },
        "id": "xf8k0gV_UE57",
        "outputId": "7aa3de59-0eb7-4d06-b0e6-c18f89585201"
      },
      "source": [
        "#check for any other unusable values\n",
        "print(pd.isnull(df).sum())"
      ],
      "execution_count": 7,
      "outputs": [
        {
          "output_type": "stream",
          "text": [
            "Pregnancies                 0\n",
            "Glucose                     0\n",
            "BloodPressure               0\n",
            "SkinThickness               0\n",
            "Insulin                     0\n",
            "BMI                         0\n",
            "DiabetesPedigreeFunction    0\n",
            "Age                         0\n",
            "Outcome                     0\n",
            "dtype: int64\n"
          ],
          "name": "stdout"
        }
      ]
    },
    {
      "cell_type": "markdown",
      "metadata": {
        "id": "BQ7YmIqhUR3R"
      },
      "source": [
        "At first glance, the dataset is complete an no cleaning process is necessary. However, we soon noticed some problems.\n",
        "\n",
        "We look back to the previous table and found that the minimum value of 'Glucose', 'BloodPressure', 'SkinThickness', 'Insulin', and 'BMI' are zero, this is very unreasonable. We set to find out if there is lots of zeroes or just a few."
      ]
    },
    {
      "cell_type": "code",
      "metadata": {
        "id": "y1WSPD0FUbI-"
      },
      "source": [
        "#Now, we drop unrelevant column for the time being.\n",
        "R= df.drop(['Pregnancies', 'DiabetesPedigreeFunction',\t'Age',\t'Outcome'],axis=1)"
      ],
      "execution_count": 8,
      "outputs": []
    },
    {
      "cell_type": "code",
      "metadata": {
        "colab": {
          "base_uri": "https://localhost:8080/",
          "height": 419
        },
        "id": "rswisvdhUqEp",
        "outputId": "31a76fdc-3ddb-49b5-f4fb-82ad36eeddfa"
      },
      "source": [
        "R"
      ],
      "execution_count": 9,
      "outputs": [
        {
          "output_type": "execute_result",
          "data": {
            "text/html": [
              "<div>\n",
              "<style scoped>\n",
              "    .dataframe tbody tr th:only-of-type {\n",
              "        vertical-align: middle;\n",
              "    }\n",
              "\n",
              "    .dataframe tbody tr th {\n",
              "        vertical-align: top;\n",
              "    }\n",
              "\n",
              "    .dataframe thead th {\n",
              "        text-align: right;\n",
              "    }\n",
              "</style>\n",
              "<table border=\"1\" class=\"dataframe\">\n",
              "  <thead>\n",
              "    <tr style=\"text-align: right;\">\n",
              "      <th></th>\n",
              "      <th>Glucose</th>\n",
              "      <th>BloodPressure</th>\n",
              "      <th>SkinThickness</th>\n",
              "      <th>Insulin</th>\n",
              "      <th>BMI</th>\n",
              "    </tr>\n",
              "  </thead>\n",
              "  <tbody>\n",
              "    <tr>\n",
              "      <th>0</th>\n",
              "      <td>138</td>\n",
              "      <td>62</td>\n",
              "      <td>35</td>\n",
              "      <td>0</td>\n",
              "      <td>33.6</td>\n",
              "    </tr>\n",
              "    <tr>\n",
              "      <th>1</th>\n",
              "      <td>84</td>\n",
              "      <td>82</td>\n",
              "      <td>31</td>\n",
              "      <td>125</td>\n",
              "      <td>38.2</td>\n",
              "    </tr>\n",
              "    <tr>\n",
              "      <th>2</th>\n",
              "      <td>145</td>\n",
              "      <td>0</td>\n",
              "      <td>0</td>\n",
              "      <td>0</td>\n",
              "      <td>44.2</td>\n",
              "    </tr>\n",
              "    <tr>\n",
              "      <th>3</th>\n",
              "      <td>135</td>\n",
              "      <td>68</td>\n",
              "      <td>42</td>\n",
              "      <td>250</td>\n",
              "      <td>42.3</td>\n",
              "    </tr>\n",
              "    <tr>\n",
              "      <th>4</th>\n",
              "      <td>139</td>\n",
              "      <td>62</td>\n",
              "      <td>41</td>\n",
              "      <td>480</td>\n",
              "      <td>40.7</td>\n",
              "    </tr>\n",
              "    <tr>\n",
              "      <th>...</th>\n",
              "      <td>...</td>\n",
              "      <td>...</td>\n",
              "      <td>...</td>\n",
              "      <td>...</td>\n",
              "      <td>...</td>\n",
              "    </tr>\n",
              "    <tr>\n",
              "      <th>1995</th>\n",
              "      <td>75</td>\n",
              "      <td>64</td>\n",
              "      <td>24</td>\n",
              "      <td>55</td>\n",
              "      <td>29.7</td>\n",
              "    </tr>\n",
              "    <tr>\n",
              "      <th>1996</th>\n",
              "      <td>179</td>\n",
              "      <td>72</td>\n",
              "      <td>42</td>\n",
              "      <td>130</td>\n",
              "      <td>32.7</td>\n",
              "    </tr>\n",
              "    <tr>\n",
              "      <th>1997</th>\n",
              "      <td>85</td>\n",
              "      <td>78</td>\n",
              "      <td>0</td>\n",
              "      <td>0</td>\n",
              "      <td>31.2</td>\n",
              "    </tr>\n",
              "    <tr>\n",
              "      <th>1998</th>\n",
              "      <td>129</td>\n",
              "      <td>110</td>\n",
              "      <td>46</td>\n",
              "      <td>130</td>\n",
              "      <td>67.1</td>\n",
              "    </tr>\n",
              "    <tr>\n",
              "      <th>1999</th>\n",
              "      <td>81</td>\n",
              "      <td>72</td>\n",
              "      <td>15</td>\n",
              "      <td>76</td>\n",
              "      <td>30.1</td>\n",
              "    </tr>\n",
              "  </tbody>\n",
              "</table>\n",
              "<p>2000 rows × 5 columns</p>\n",
              "</div>"
            ],
            "text/plain": [
              "      Glucose  BloodPressure  SkinThickness  Insulin   BMI\n",
              "0         138             62             35        0  33.6\n",
              "1          84             82             31      125  38.2\n",
              "2         145              0              0        0  44.2\n",
              "3         135             68             42      250  42.3\n",
              "4         139             62             41      480  40.7\n",
              "...       ...            ...            ...      ...   ...\n",
              "1995       75             64             24       55  29.7\n",
              "1996      179             72             42      130  32.7\n",
              "1997       85             78              0        0  31.2\n",
              "1998      129            110             46      130  67.1\n",
              "1999       81             72             15       76  30.1\n",
              "\n",
              "[2000 rows x 5 columns]"
            ]
          },
          "metadata": {
            "tags": []
          },
          "execution_count": 9
        }
      ]
    },
    {
      "cell_type": "code",
      "metadata": {
        "colab": {
          "base_uri": "https://localhost:8080/"
        },
        "id": "QTbS1kjenTeA",
        "outputId": "195a8c15-a14c-4721-f442-5d3a9a97746e"
      },
      "source": [
        "#The following code counts the number of non-zero values in each column.\n",
        "print(\"Attributes       Number of non-Zeroes\")\n",
        "R.astype(bool).sum(axis=0)"
      ],
      "execution_count": 10,
      "outputs": [
        {
          "output_type": "stream",
          "text": [
            "Attributes       Number of non-Zeroes\n"
          ],
          "name": "stdout"
        },
        {
          "output_type": "execute_result",
          "data": {
            "text/plain": [
              "Glucose          1987\n",
              "BloodPressure    1910\n",
              "SkinThickness    1427\n",
              "Insulin          1044\n",
              "BMI              1972\n",
              "dtype: int64"
            ]
          },
          "metadata": {
            "tags": []
          },
          "execution_count": 10
        }
      ]
    },
    {
      "cell_type": "code",
      "metadata": {
        "colab": {
          "base_uri": "https://localhost:8080/"
        },
        "id": "Jhf24EnuUqIp",
        "outputId": "e6a44f70-d382-4eb1-998c-27e3869b0bd5"
      },
      "source": [
        "#For better presentation, we display also the counts on number of zero in each column\n",
        "print(\"Attributes       Number of Zeroes (out of 2000)\")\n",
        "(R == 0).astype(int).sum(axis=0)\n"
      ],
      "execution_count": 11,
      "outputs": [
        {
          "output_type": "stream",
          "text": [
            "Attributes       Number of Zeroes (out of 2000)\n"
          ],
          "name": "stdout"
        },
        {
          "output_type": "execute_result",
          "data": {
            "text/plain": [
              "Glucose           13\n",
              "BloodPressure     90\n",
              "SkinThickness    573\n",
              "Insulin          956\n",
              "BMI               28\n",
              "dtype: int64"
            ]
          },
          "metadata": {
            "tags": []
          },
          "execution_count": 11
        }
      ]
    },
    {
      "cell_type": "markdown",
      "metadata": {
        "id": "en6q0as-Z4eg"
      },
      "source": [
        "Some of the variables just have some zeros while some have too much. Those variables are important and we can't drop them.\n",
        "\n",
        "Hence, we attempt to replace them with reasonable assumptions."
      ]
    },
    {
      "cell_type": "markdown",
      "metadata": {
        "id": "kZqFwW_sUe11"
      },
      "source": [
        "**Assumptions made:**\n",
        "\n",
        "A person with high BMI value will have high glucose level, high blood pressure,  high skin thickness, and high insulin level.\n",
        "\n",
        "By 'high' we refer to medical data or diabetic samples.\n",
        "\n",
        "These assumptions may be biased as a person with high BMI is not necesarily obese."
      ]
    },
    {
      "cell_type": "markdown",
      "metadata": {
        "id": "4Xtdnt5sVIMa"
      },
      "source": [
        "##**4. Data Cleaning**\n",
        "###**BMI**\n",
        "\n",
        "There isn't much zeros in 'BMI', hence, we decided to drop the whole row if 'BMI'=0."
      ]
    },
    {
      "cell_type": "code",
      "metadata": {
        "id": "NokKdpbVVJFv"
      },
      "source": [
        "df = df[df.BMI  != 0]"
      ],
      "execution_count": 12,
      "outputs": []
    },
    {
      "cell_type": "code",
      "metadata": {
        "colab": {
          "base_uri": "https://localhost:8080/",
          "height": 297
        },
        "id": "V8LA2X0hVNli",
        "outputId": "b9ab2dbe-6095-4e1a-c171-08b89095364d"
      },
      "source": [
        "df.describe(include=\"all\")"
      ],
      "execution_count": 13,
      "outputs": [
        {
          "output_type": "execute_result",
          "data": {
            "text/html": [
              "<div>\n",
              "<style scoped>\n",
              "    .dataframe tbody tr th:only-of-type {\n",
              "        vertical-align: middle;\n",
              "    }\n",
              "\n",
              "    .dataframe tbody tr th {\n",
              "        vertical-align: top;\n",
              "    }\n",
              "\n",
              "    .dataframe thead th {\n",
              "        text-align: right;\n",
              "    }\n",
              "</style>\n",
              "<table border=\"1\" class=\"dataframe\">\n",
              "  <thead>\n",
              "    <tr style=\"text-align: right;\">\n",
              "      <th></th>\n",
              "      <th>Pregnancies</th>\n",
              "      <th>Glucose</th>\n",
              "      <th>BloodPressure</th>\n",
              "      <th>SkinThickness</th>\n",
              "      <th>Insulin</th>\n",
              "      <th>BMI</th>\n",
              "      <th>DiabetesPedigreeFunction</th>\n",
              "      <th>Age</th>\n",
              "      <th>Outcome</th>\n",
              "    </tr>\n",
              "  </thead>\n",
              "  <tbody>\n",
              "    <tr>\n",
              "      <th>count</th>\n",
              "      <td>1972.000000</td>\n",
              "      <td>1972.000000</td>\n",
              "      <td>1972.000000</td>\n",
              "      <td>1972.000000</td>\n",
              "      <td>1972.000000</td>\n",
              "      <td>1972.000000</td>\n",
              "      <td>1972.000000</td>\n",
              "      <td>1972.000000</td>\n",
              "      <td>1972.000000</td>\n",
              "    </tr>\n",
              "    <tr>\n",
              "      <th>mean</th>\n",
              "      <td>3.711460</td>\n",
              "      <td>121.468560</td>\n",
              "      <td>69.791075</td>\n",
              "      <td>21.162272</td>\n",
              "      <td>81.258114</td>\n",
              "      <td>32.650101</td>\n",
              "      <td>0.470965</td>\n",
              "      <td>33.158215</td>\n",
              "      <td>0.345335</td>\n",
              "    </tr>\n",
              "    <tr>\n",
              "      <th>std</th>\n",
              "      <td>3.306346</td>\n",
              "      <td>32.127892</td>\n",
              "      <td>18.071310</td>\n",
              "      <td>16.063675</td>\n",
              "      <td>111.597017</td>\n",
              "      <td>7.241027</td>\n",
              "      <td>0.321058</td>\n",
              "      <td>11.731969</td>\n",
              "      <td>0.475598</td>\n",
              "    </tr>\n",
              "    <tr>\n",
              "      <th>min</th>\n",
              "      <td>0.000000</td>\n",
              "      <td>0.000000</td>\n",
              "      <td>0.000000</td>\n",
              "      <td>0.000000</td>\n",
              "      <td>0.000000</td>\n",
              "      <td>18.200000</td>\n",
              "      <td>0.078000</td>\n",
              "      <td>21.000000</td>\n",
              "      <td>0.000000</td>\n",
              "    </tr>\n",
              "    <tr>\n",
              "      <th>25%</th>\n",
              "      <td>1.000000</td>\n",
              "      <td>99.000000</td>\n",
              "      <td>64.000000</td>\n",
              "      <td>0.000000</td>\n",
              "      <td>0.000000</td>\n",
              "      <td>27.500000</td>\n",
              "      <td>0.244000</td>\n",
              "      <td>24.000000</td>\n",
              "      <td>0.000000</td>\n",
              "    </tr>\n",
              "    <tr>\n",
              "      <th>50%</th>\n",
              "      <td>3.000000</td>\n",
              "      <td>117.500000</td>\n",
              "      <td>72.000000</td>\n",
              "      <td>23.000000</td>\n",
              "      <td>43.000000</td>\n",
              "      <td>32.400000</td>\n",
              "      <td>0.378000</td>\n",
              "      <td>29.000000</td>\n",
              "      <td>0.000000</td>\n",
              "    </tr>\n",
              "    <tr>\n",
              "      <th>75%</th>\n",
              "      <td>6.000000</td>\n",
              "      <td>142.000000</td>\n",
              "      <td>80.000000</td>\n",
              "      <td>33.000000</td>\n",
              "      <td>130.000000</td>\n",
              "      <td>36.800000</td>\n",
              "      <td>0.624000</td>\n",
              "      <td>40.000000</td>\n",
              "      <td>1.000000</td>\n",
              "    </tr>\n",
              "    <tr>\n",
              "      <th>max</th>\n",
              "      <td>17.000000</td>\n",
              "      <td>199.000000</td>\n",
              "      <td>122.000000</td>\n",
              "      <td>110.000000</td>\n",
              "      <td>744.000000</td>\n",
              "      <td>80.600000</td>\n",
              "      <td>2.420000</td>\n",
              "      <td>81.000000</td>\n",
              "      <td>1.000000</td>\n",
              "    </tr>\n",
              "  </tbody>\n",
              "</table>\n",
              "</div>"
            ],
            "text/plain": [
              "       Pregnancies      Glucose  ...          Age      Outcome\n",
              "count  1972.000000  1972.000000  ...  1972.000000  1972.000000\n",
              "mean      3.711460   121.468560  ...    33.158215     0.345335\n",
              "std       3.306346    32.127892  ...    11.731969     0.475598\n",
              "min       0.000000     0.000000  ...    21.000000     0.000000\n",
              "25%       1.000000    99.000000  ...    24.000000     0.000000\n",
              "50%       3.000000   117.500000  ...    29.000000     0.000000\n",
              "75%       6.000000   142.000000  ...    40.000000     1.000000\n",
              "max      17.000000   199.000000  ...    81.000000     1.000000\n",
              "\n",
              "[8 rows x 9 columns]"
            ]
          },
          "metadata": {
            "tags": []
          },
          "execution_count": 13
        }
      ]
    },
    {
      "cell_type": "markdown",
      "metadata": {
        "id": "vhMqUa2-VUdA"
      },
      "source": [
        "Alright, now 'BMI' minimum value is no longer zero. Data count is 1972. We proceed to replace 0 value data in other columns."
      ]
    },
    {
      "cell_type": "markdown",
      "metadata": {
        "id": "guWxIUeRVd9f"
      },
      "source": [
        "###**Glucose** \n",
        "\n",
        "BMI:\n",
        "\n",
        "* <18.5  : Underweight\n",
        "* 18.5-25: Healthy\n",
        "* 25-30  : Overweight\n",
        "* .>30    : Obesity\n"
      ]
    },
    {
      "cell_type": "markdown",
      "metadata": {
        "id": "9LskTff4VeEI"
      },
      "source": [
        "Glucose: Plasma glucose concentration after 2 hours in an oral glucose tolerance test (mg/dL)\n",
        "\n",
        "2 hours Oral Glucose Tolerance Test [(OGTT)](https://labtestsonline.org/tests/glucose-tolerance-test):\n",
        "\n",
        "After 2 hours, \n",
        "* Less than 140 mg/dL: Normal glucose tolerance\n",
        "* From 140-199 mg/dL :Impaired glucose tolerance (prediabetes)\n",
        "* Equal to or greater than 200 mg/dL :Elevated (hyperglycemia is present)\n",
        "\n",
        "We assume that the data is not taken when anyone is pregnant.\n",
        "We assume that high BMI relates with high glucose level.\n",
        "\n",
        "Hence, if the people are obese, let 'Glucose'= 170, else, 'Glucose'= 130.\n",
        "(Replacement of data with 0 value only)"
      ]
    },
    {
      "cell_type": "code",
      "metadata": {
        "id": "Y3jMeptdVnHG"
      },
      "source": [
        "#The following code is used to remove warnings when preforming replacement of data.\n",
        "pd.options.mode.chained_assignment = None  # default='warn'"
      ],
      "execution_count": 14,
      "outputs": []
    },
    {
      "cell_type": "code",
      "metadata": {
        "id": "q-SxHx79VnMm"
      },
      "source": [
        "#Using np.where, specifying the desired conditions. If True, yield x, otherwise yield y.\n",
        "#np.where(condition, x, y)\n",
        "df.Glucose = np.where( ((df.BMI > 30 ) & (df.Glucose == 0)), 170, df.Glucose)"
      ],
      "execution_count": 15,
      "outputs": []
    },
    {
      "cell_type": "code",
      "metadata": {
        "id": "h-BxXV7dVnQr"
      },
      "source": [
        "df.Glucose = np.where( ((df.BMI <= 30 ) & (df.Glucose == 0)), 130, df.Glucose)"
      ],
      "execution_count": 16,
      "outputs": []
    },
    {
      "cell_type": "code",
      "metadata": {
        "colab": {
          "base_uri": "https://localhost:8080/",
          "height": 297
        },
        "id": "Pe-vXgLdVnUY",
        "outputId": "1cc43354-e45e-42f5-f93e-9c25b7d019e1"
      },
      "source": [
        "df.describe(include=\"all\")"
      ],
      "execution_count": 17,
      "outputs": [
        {
          "output_type": "execute_result",
          "data": {
            "text/html": [
              "<div>\n",
              "<style scoped>\n",
              "    .dataframe tbody tr th:only-of-type {\n",
              "        vertical-align: middle;\n",
              "    }\n",
              "\n",
              "    .dataframe tbody tr th {\n",
              "        vertical-align: top;\n",
              "    }\n",
              "\n",
              "    .dataframe thead th {\n",
              "        text-align: right;\n",
              "    }\n",
              "</style>\n",
              "<table border=\"1\" class=\"dataframe\">\n",
              "  <thead>\n",
              "    <tr style=\"text-align: right;\">\n",
              "      <th></th>\n",
              "      <th>Pregnancies</th>\n",
              "      <th>Glucose</th>\n",
              "      <th>BloodPressure</th>\n",
              "      <th>SkinThickness</th>\n",
              "      <th>Insulin</th>\n",
              "      <th>BMI</th>\n",
              "      <th>DiabetesPedigreeFunction</th>\n",
              "      <th>Age</th>\n",
              "      <th>Outcome</th>\n",
              "    </tr>\n",
              "  </thead>\n",
              "  <tbody>\n",
              "    <tr>\n",
              "      <th>count</th>\n",
              "      <td>1972.000000</td>\n",
              "      <td>1972.000000</td>\n",
              "      <td>1972.000000</td>\n",
              "      <td>1972.000000</td>\n",
              "      <td>1972.000000</td>\n",
              "      <td>1972.000000</td>\n",
              "      <td>1972.000000</td>\n",
              "      <td>1972.000000</td>\n",
              "      <td>1972.000000</td>\n",
              "    </tr>\n",
              "    <tr>\n",
              "      <th>mean</th>\n",
              "      <td>3.711460</td>\n",
              "      <td>122.508114</td>\n",
              "      <td>69.791075</td>\n",
              "      <td>21.162272</td>\n",
              "      <td>81.258114</td>\n",
              "      <td>32.650101</td>\n",
              "      <td>0.470965</td>\n",
              "      <td>33.158215</td>\n",
              "      <td>0.345335</td>\n",
              "    </tr>\n",
              "    <tr>\n",
              "      <th>std</th>\n",
              "      <td>3.306346</td>\n",
              "      <td>30.736081</td>\n",
              "      <td>18.071310</td>\n",
              "      <td>16.063675</td>\n",
              "      <td>111.597017</td>\n",
              "      <td>7.241027</td>\n",
              "      <td>0.321058</td>\n",
              "      <td>11.731969</td>\n",
              "      <td>0.475598</td>\n",
              "    </tr>\n",
              "    <tr>\n",
              "      <th>min</th>\n",
              "      <td>0.000000</td>\n",
              "      <td>44.000000</td>\n",
              "      <td>0.000000</td>\n",
              "      <td>0.000000</td>\n",
              "      <td>0.000000</td>\n",
              "      <td>18.200000</td>\n",
              "      <td>0.078000</td>\n",
              "      <td>21.000000</td>\n",
              "      <td>0.000000</td>\n",
              "    </tr>\n",
              "    <tr>\n",
              "      <th>25%</th>\n",
              "      <td>1.000000</td>\n",
              "      <td>99.000000</td>\n",
              "      <td>64.000000</td>\n",
              "      <td>0.000000</td>\n",
              "      <td>0.000000</td>\n",
              "      <td>27.500000</td>\n",
              "      <td>0.244000</td>\n",
              "      <td>24.000000</td>\n",
              "      <td>0.000000</td>\n",
              "    </tr>\n",
              "    <tr>\n",
              "      <th>50%</th>\n",
              "      <td>3.000000</td>\n",
              "      <td>119.000000</td>\n",
              "      <td>72.000000</td>\n",
              "      <td>23.000000</td>\n",
              "      <td>43.000000</td>\n",
              "      <td>32.400000</td>\n",
              "      <td>0.378000</td>\n",
              "      <td>29.000000</td>\n",
              "      <td>0.000000</td>\n",
              "    </tr>\n",
              "    <tr>\n",
              "      <th>75%</th>\n",
              "      <td>6.000000</td>\n",
              "      <td>142.000000</td>\n",
              "      <td>80.000000</td>\n",
              "      <td>33.000000</td>\n",
              "      <td>130.000000</td>\n",
              "      <td>36.800000</td>\n",
              "      <td>0.624000</td>\n",
              "      <td>40.000000</td>\n",
              "      <td>1.000000</td>\n",
              "    </tr>\n",
              "    <tr>\n",
              "      <th>max</th>\n",
              "      <td>17.000000</td>\n",
              "      <td>199.000000</td>\n",
              "      <td>122.000000</td>\n",
              "      <td>110.000000</td>\n",
              "      <td>744.000000</td>\n",
              "      <td>80.600000</td>\n",
              "      <td>2.420000</td>\n",
              "      <td>81.000000</td>\n",
              "      <td>1.000000</td>\n",
              "    </tr>\n",
              "  </tbody>\n",
              "</table>\n",
              "</div>"
            ],
            "text/plain": [
              "       Pregnancies      Glucose  ...          Age      Outcome\n",
              "count  1972.000000  1972.000000  ...  1972.000000  1972.000000\n",
              "mean      3.711460   122.508114  ...    33.158215     0.345335\n",
              "std       3.306346    30.736081  ...    11.731969     0.475598\n",
              "min       0.000000    44.000000  ...    21.000000     0.000000\n",
              "25%       1.000000    99.000000  ...    24.000000     0.000000\n",
              "50%       3.000000   119.000000  ...    29.000000     0.000000\n",
              "75%       6.000000   142.000000  ...    40.000000     1.000000\n",
              "max      17.000000   199.000000  ...    81.000000     1.000000\n",
              "\n",
              "[8 rows x 9 columns]"
            ]
          },
          "metadata": {
            "tags": []
          },
          "execution_count": 17
        }
      ]
    },
    {
      "cell_type": "markdown",
      "metadata": {
        "id": "GdbuHfJ5V5IV"
      },
      "source": [
        "Data cleaning for column 'Glucose' is done.\n",
        "The minimum data for 'Glucose' is no more '0'."
      ]
    },
    {
      "cell_type": "markdown",
      "metadata": {
        "id": "2Gw7MBQ4V9tj"
      },
      "source": [
        "###**Blood Pressure**\n",
        "BloodPressure: Diastolic blood pressure (mm Hg)\n",
        "\n",
        "Diastolic: relating to the phase of the heartbeat when the heart muscle relaxes and allows the chambers to fill with blood\n",
        "\n",
        "[Blood Pressure](https://www.cdc.gov/bloodpressure/about.htm):\n",
        "\n",
        "* Normal: less than 80 mm Hg (diastolic)\n",
        "\n",
        "* High blood pressure (hypertension):  80 mm Hg or higher (diastolic)\n",
        "\n",
        "We assume that high BMI relates with high blood pressure.\n",
        "\n",
        "Hence, if the people are obese, let 'BloodPressure'= 90, else, 'BloodPressure'= 70.\n",
        "(Replacement of data with 0 value only)"
      ]
    },
    {
      "cell_type": "code",
      "metadata": {
        "id": "Zc2OIWkJV6Nf"
      },
      "source": [
        "df.BloodPressure = np.where( ((df.BMI > 30 ) & (df.BloodPressure == 0)), 90, df.BloodPressure)"
      ],
      "execution_count": 18,
      "outputs": []
    },
    {
      "cell_type": "code",
      "metadata": {
        "id": "AjR2KMupWD3n"
      },
      "source": [
        "df.BloodPressure = np.where( ((df.BMI <= 30 ) & (df.BloodPressure == 0)), 70, df.BloodPressure)"
      ],
      "execution_count": 19,
      "outputs": []
    },
    {
      "cell_type": "code",
      "metadata": {
        "colab": {
          "base_uri": "https://localhost:8080/",
          "height": 297
        },
        "id": "aPKLmy6BWD85",
        "outputId": "8d1d494b-27ae-4eaa-e919-a1b228e98f9f"
      },
      "source": [
        "df.describe(include=\"all\")"
      ],
      "execution_count": 20,
      "outputs": [
        {
          "output_type": "execute_result",
          "data": {
            "text/html": [
              "<div>\n",
              "<style scoped>\n",
              "    .dataframe tbody tr th:only-of-type {\n",
              "        vertical-align: middle;\n",
              "    }\n",
              "\n",
              "    .dataframe tbody tr th {\n",
              "        vertical-align: top;\n",
              "    }\n",
              "\n",
              "    .dataframe thead th {\n",
              "        text-align: right;\n",
              "    }\n",
              "</style>\n",
              "<table border=\"1\" class=\"dataframe\">\n",
              "  <thead>\n",
              "    <tr style=\"text-align: right;\">\n",
              "      <th></th>\n",
              "      <th>Pregnancies</th>\n",
              "      <th>Glucose</th>\n",
              "      <th>BloodPressure</th>\n",
              "      <th>SkinThickness</th>\n",
              "      <th>Insulin</th>\n",
              "      <th>BMI</th>\n",
              "      <th>DiabetesPedigreeFunction</th>\n",
              "      <th>Age</th>\n",
              "      <th>Outcome</th>\n",
              "    </tr>\n",
              "  </thead>\n",
              "  <tbody>\n",
              "    <tr>\n",
              "      <th>count</th>\n",
              "      <td>1972.000000</td>\n",
              "      <td>1972.000000</td>\n",
              "      <td>1972.000000</td>\n",
              "      <td>1972.000000</td>\n",
              "      <td>1972.000000</td>\n",
              "      <td>1972.000000</td>\n",
              "      <td>1972.000000</td>\n",
              "      <td>1972.000000</td>\n",
              "      <td>1972.000000</td>\n",
              "    </tr>\n",
              "    <tr>\n",
              "      <th>mean</th>\n",
              "      <td>3.711460</td>\n",
              "      <td>122.508114</td>\n",
              "      <td>72.646045</td>\n",
              "      <td>21.162272</td>\n",
              "      <td>81.258114</td>\n",
              "      <td>32.650101</td>\n",
              "      <td>0.470965</td>\n",
              "      <td>33.158215</td>\n",
              "      <td>0.345335</td>\n",
              "    </tr>\n",
              "    <tr>\n",
              "      <th>std</th>\n",
              "      <td>3.306346</td>\n",
              "      <td>30.736081</td>\n",
              "      <td>12.239222</td>\n",
              "      <td>16.063675</td>\n",
              "      <td>111.597017</td>\n",
              "      <td>7.241027</td>\n",
              "      <td>0.321058</td>\n",
              "      <td>11.731969</td>\n",
              "      <td>0.475598</td>\n",
              "    </tr>\n",
              "    <tr>\n",
              "      <th>min</th>\n",
              "      <td>0.000000</td>\n",
              "      <td>44.000000</td>\n",
              "      <td>24.000000</td>\n",
              "      <td>0.000000</td>\n",
              "      <td>0.000000</td>\n",
              "      <td>18.200000</td>\n",
              "      <td>0.078000</td>\n",
              "      <td>21.000000</td>\n",
              "      <td>0.000000</td>\n",
              "    </tr>\n",
              "    <tr>\n",
              "      <th>25%</th>\n",
              "      <td>1.000000</td>\n",
              "      <td>99.000000</td>\n",
              "      <td>64.000000</td>\n",
              "      <td>0.000000</td>\n",
              "      <td>0.000000</td>\n",
              "      <td>27.500000</td>\n",
              "      <td>0.244000</td>\n",
              "      <td>24.000000</td>\n",
              "      <td>0.000000</td>\n",
              "    </tr>\n",
              "    <tr>\n",
              "      <th>50%</th>\n",
              "      <td>3.000000</td>\n",
              "      <td>119.000000</td>\n",
              "      <td>72.000000</td>\n",
              "      <td>23.000000</td>\n",
              "      <td>43.000000</td>\n",
              "      <td>32.400000</td>\n",
              "      <td>0.378000</td>\n",
              "      <td>29.000000</td>\n",
              "      <td>0.000000</td>\n",
              "    </tr>\n",
              "    <tr>\n",
              "      <th>75%</th>\n",
              "      <td>6.000000</td>\n",
              "      <td>142.000000</td>\n",
              "      <td>80.000000</td>\n",
              "      <td>33.000000</td>\n",
              "      <td>130.000000</td>\n",
              "      <td>36.800000</td>\n",
              "      <td>0.624000</td>\n",
              "      <td>40.000000</td>\n",
              "      <td>1.000000</td>\n",
              "    </tr>\n",
              "    <tr>\n",
              "      <th>max</th>\n",
              "      <td>17.000000</td>\n",
              "      <td>199.000000</td>\n",
              "      <td>122.000000</td>\n",
              "      <td>110.000000</td>\n",
              "      <td>744.000000</td>\n",
              "      <td>80.600000</td>\n",
              "      <td>2.420000</td>\n",
              "      <td>81.000000</td>\n",
              "      <td>1.000000</td>\n",
              "    </tr>\n",
              "  </tbody>\n",
              "</table>\n",
              "</div>"
            ],
            "text/plain": [
              "       Pregnancies      Glucose  ...          Age      Outcome\n",
              "count  1972.000000  1972.000000  ...  1972.000000  1972.000000\n",
              "mean      3.711460   122.508114  ...    33.158215     0.345335\n",
              "std       3.306346    30.736081  ...    11.731969     0.475598\n",
              "min       0.000000    44.000000  ...    21.000000     0.000000\n",
              "25%       1.000000    99.000000  ...    24.000000     0.000000\n",
              "50%       3.000000   119.000000  ...    29.000000     0.000000\n",
              "75%       6.000000   142.000000  ...    40.000000     1.000000\n",
              "max      17.000000   199.000000  ...    81.000000     1.000000\n",
              "\n",
              "[8 rows x 9 columns]"
            ]
          },
          "metadata": {
            "tags": []
          },
          "execution_count": 20
        }
      ]
    },
    {
      "cell_type": "markdown",
      "metadata": {
        "id": "XUiG8_hHWKhR"
      },
      "source": [
        "Data cleaning for 'BloodPressure' is done.The minimum data for 'BloodPressure' is no more '0'."
      ]
    },
    {
      "cell_type": "markdown",
      "metadata": {
        "id": "RFUs3cODWMet"
      },
      "source": [
        "###**Skin Thickness**\n",
        "SkinThickness: Triceps skin fold thickness (mm)\n",
        "\n",
        "It is value used to estimate body fat, measured on the right arm halfway between the olecranon process of the elbow and the acromial process of the scapula.\n",
        "\n",
        "[Skin Thickness](https://www.ncbi.nlm.nih.gov/pmc/articles/PMC5031196/):\n",
        "\n",
        "* Normal: 20.6 (mean)\n",
        "\n",
        "* Diabetes: 24.3 (mean)\n",
        "\n",
        "The data referred to are girls with mean age of 16 and diabetes here refer to type 1 diabetes particularly. Hence, we assume there is no much difference between age, gender and the types of diabetes here.\n",
        "\n",
        "\n",
        "We assume that high BMI relates with high skin thickness. \n",
        "\n",
        "Hence, if the people are obese, let 'SkinThickness'= 24.3, else, 'SkinThickness'= 20.6.\n",
        "(Replacement of data with 0 value only)"
      ]
    },
    {
      "cell_type": "code",
      "metadata": {
        "id": "64zCPRaBWcb1"
      },
      "source": [
        "df.SkinThickness = np.where( ((df.BMI > 30 ) & (df.SkinThickness == 0)), 24.3, df.SkinThickness)"
      ],
      "execution_count": 21,
      "outputs": []
    },
    {
      "cell_type": "code",
      "metadata": {
        "id": "m2U3AOd9WchD"
      },
      "source": [
        "df.SkinThickness = np.where( ((df.BMI <= 30 ) & (df.SkinThickness == 0)), 20.6, df.SkinThickness)"
      ],
      "execution_count": 22,
      "outputs": []
    },
    {
      "cell_type": "code",
      "metadata": {
        "colab": {
          "base_uri": "https://localhost:8080/",
          "height": 297
        },
        "id": "ygZNYdVPWcl_",
        "outputId": "7123df23-40c0-46af-9fdf-4b6352299546"
      },
      "source": [
        "df.describe(include=\"all\")"
      ],
      "execution_count": 23,
      "outputs": [
        {
          "output_type": "execute_result",
          "data": {
            "text/html": [
              "<div>\n",
              "<style scoped>\n",
              "    .dataframe tbody tr th:only-of-type {\n",
              "        vertical-align: middle;\n",
              "    }\n",
              "\n",
              "    .dataframe tbody tr th {\n",
              "        vertical-align: top;\n",
              "    }\n",
              "\n",
              "    .dataframe thead th {\n",
              "        text-align: right;\n",
              "    }\n",
              "</style>\n",
              "<table border=\"1\" class=\"dataframe\">\n",
              "  <thead>\n",
              "    <tr style=\"text-align: right;\">\n",
              "      <th></th>\n",
              "      <th>Pregnancies</th>\n",
              "      <th>Glucose</th>\n",
              "      <th>BloodPressure</th>\n",
              "      <th>SkinThickness</th>\n",
              "      <th>Insulin</th>\n",
              "      <th>BMI</th>\n",
              "      <th>DiabetesPedigreeFunction</th>\n",
              "      <th>Age</th>\n",
              "      <th>Outcome</th>\n",
              "    </tr>\n",
              "  </thead>\n",
              "  <tbody>\n",
              "    <tr>\n",
              "      <th>count</th>\n",
              "      <td>1972.000000</td>\n",
              "      <td>1972.000000</td>\n",
              "      <td>1972.000000</td>\n",
              "      <td>1972.000000</td>\n",
              "      <td>1972.000000</td>\n",
              "      <td>1972.000000</td>\n",
              "      <td>1972.000000</td>\n",
              "      <td>1972.000000</td>\n",
              "      <td>1972.000000</td>\n",
              "    </tr>\n",
              "    <tr>\n",
              "      <th>mean</th>\n",
              "      <td>3.711460</td>\n",
              "      <td>122.508114</td>\n",
              "      <td>72.646045</td>\n",
              "      <td>27.466024</td>\n",
              "      <td>81.258114</td>\n",
              "      <td>32.650101</td>\n",
              "      <td>0.470965</td>\n",
              "      <td>33.158215</td>\n",
              "      <td>0.345335</td>\n",
              "    </tr>\n",
              "    <tr>\n",
              "      <th>std</th>\n",
              "      <td>3.306346</td>\n",
              "      <td>30.736081</td>\n",
              "      <td>12.239222</td>\n",
              "      <td>9.725665</td>\n",
              "      <td>111.597017</td>\n",
              "      <td>7.241027</td>\n",
              "      <td>0.321058</td>\n",
              "      <td>11.731969</td>\n",
              "      <td>0.475598</td>\n",
              "    </tr>\n",
              "    <tr>\n",
              "      <th>min</th>\n",
              "      <td>0.000000</td>\n",
              "      <td>44.000000</td>\n",
              "      <td>24.000000</td>\n",
              "      <td>7.000000</td>\n",
              "      <td>0.000000</td>\n",
              "      <td>18.200000</td>\n",
              "      <td>0.078000</td>\n",
              "      <td>21.000000</td>\n",
              "      <td>0.000000</td>\n",
              "    </tr>\n",
              "    <tr>\n",
              "      <th>25%</th>\n",
              "      <td>1.000000</td>\n",
              "      <td>99.000000</td>\n",
              "      <td>64.000000</td>\n",
              "      <td>20.600000</td>\n",
              "      <td>0.000000</td>\n",
              "      <td>27.500000</td>\n",
              "      <td>0.244000</td>\n",
              "      <td>24.000000</td>\n",
              "      <td>0.000000</td>\n",
              "    </tr>\n",
              "    <tr>\n",
              "      <th>50%</th>\n",
              "      <td>3.000000</td>\n",
              "      <td>119.000000</td>\n",
              "      <td>72.000000</td>\n",
              "      <td>24.300000</td>\n",
              "      <td>43.000000</td>\n",
              "      <td>32.400000</td>\n",
              "      <td>0.378000</td>\n",
              "      <td>29.000000</td>\n",
              "      <td>0.000000</td>\n",
              "    </tr>\n",
              "    <tr>\n",
              "      <th>75%</th>\n",
              "      <td>6.000000</td>\n",
              "      <td>142.000000</td>\n",
              "      <td>80.000000</td>\n",
              "      <td>33.000000</td>\n",
              "      <td>130.000000</td>\n",
              "      <td>36.800000</td>\n",
              "      <td>0.624000</td>\n",
              "      <td>40.000000</td>\n",
              "      <td>1.000000</td>\n",
              "    </tr>\n",
              "    <tr>\n",
              "      <th>max</th>\n",
              "      <td>17.000000</td>\n",
              "      <td>199.000000</td>\n",
              "      <td>122.000000</td>\n",
              "      <td>110.000000</td>\n",
              "      <td>744.000000</td>\n",
              "      <td>80.600000</td>\n",
              "      <td>2.420000</td>\n",
              "      <td>81.000000</td>\n",
              "      <td>1.000000</td>\n",
              "    </tr>\n",
              "  </tbody>\n",
              "</table>\n",
              "</div>"
            ],
            "text/plain": [
              "       Pregnancies      Glucose  ...          Age      Outcome\n",
              "count  1972.000000  1972.000000  ...  1972.000000  1972.000000\n",
              "mean      3.711460   122.508114  ...    33.158215     0.345335\n",
              "std       3.306346    30.736081  ...    11.731969     0.475598\n",
              "min       0.000000    44.000000  ...    21.000000     0.000000\n",
              "25%       1.000000    99.000000  ...    24.000000     0.000000\n",
              "50%       3.000000   119.000000  ...    29.000000     0.000000\n",
              "75%       6.000000   142.000000  ...    40.000000     1.000000\n",
              "max      17.000000   199.000000  ...    81.000000     1.000000\n",
              "\n",
              "[8 rows x 9 columns]"
            ]
          },
          "metadata": {
            "tags": []
          },
          "execution_count": 23
        }
      ]
    },
    {
      "cell_type": "markdown",
      "metadata": {
        "id": "dF1J8C3PWwJY"
      },
      "source": [
        "Data cleaning for 'SkinThickness' is done.The minimum data for 'SkinThickness' is no more '0'."
      ]
    },
    {
      "cell_type": "markdown",
      "metadata": {
        "id": "kokjwblNWw3t"
      },
      "source": [
        "###**Insulin**\n",
        "Insulin: 2-hour (post-75 g oral glucose) serum insulin levels ( mIU/L)\n",
        "\n",
        "Obesity is associated with an increased risk of developing insulin resistance and type 2 diabetes. \n",
        "\n",
        "Insulin is a hormone that's normally produced by your pancreas, which helps regulate blood sugar. When the body becomes resistant to insulin, it tries to cope by producing more insulin. \n",
        "\n",
        "People with **insulin resistance are often producing too more insulin** than healthy people. Producing too much insulin is known as hyperinsulinemia. Hyperinsulinemia means the amount of insulin in your blood is higher than what's considered normal. This alone isn't diabetes. But hyperinsulinemia is often associated with type 2 diabetes\n",
        "\n",
        "[Insulin](https://emedicine.medscape.com/article/2089224-overview):\n",
        "\n",
        "* Normal: 16-166 mIU/L\n",
        "\n",
        "We assume that high BMI relates with high insulin level.\n",
        "\n",
        "Hence, if the people are obese, let 'Insulin'= 185, else, 'Insulin'= 130.\n",
        "(Replacement of data with 0 value only)"
      ]
    },
    {
      "cell_type": "code",
      "metadata": {
        "id": "b6BQ1WH4W1Pe"
      },
      "source": [
        "df.Insulin = np.where( ((df.BMI > 30 ) & (df.Insulin == 0)), 185, df.Insulin)"
      ],
      "execution_count": 24,
      "outputs": []
    },
    {
      "cell_type": "code",
      "metadata": {
        "id": "_CVW7ZEsW1U7"
      },
      "source": [
        "df.Insulin = np.where( ((df.BMI <= 30 ) & (df.Insulin == 0)), 130, df.Insulin)"
      ],
      "execution_count": 25,
      "outputs": []
    },
    {
      "cell_type": "code",
      "metadata": {
        "colab": {
          "base_uri": "https://localhost:8080/",
          "height": 297
        },
        "id": "C6XXjD-2W1ZJ",
        "outputId": "e9caffcd-054c-4964-806c-7ade3cf6eb9c"
      },
      "source": [
        "df.describe(include=\"all\")"
      ],
      "execution_count": 26,
      "outputs": [
        {
          "output_type": "execute_result",
          "data": {
            "text/html": [
              "<div>\n",
              "<style scoped>\n",
              "    .dataframe tbody tr th:only-of-type {\n",
              "        vertical-align: middle;\n",
              "    }\n",
              "\n",
              "    .dataframe tbody tr th {\n",
              "        vertical-align: top;\n",
              "    }\n",
              "\n",
              "    .dataframe thead th {\n",
              "        text-align: right;\n",
              "    }\n",
              "</style>\n",
              "<table border=\"1\" class=\"dataframe\">\n",
              "  <thead>\n",
              "    <tr style=\"text-align: right;\">\n",
              "      <th></th>\n",
              "      <th>Pregnancies</th>\n",
              "      <th>Glucose</th>\n",
              "      <th>BloodPressure</th>\n",
              "      <th>SkinThickness</th>\n",
              "      <th>Insulin</th>\n",
              "      <th>BMI</th>\n",
              "      <th>DiabetesPedigreeFunction</th>\n",
              "      <th>Age</th>\n",
              "      <th>Outcome</th>\n",
              "    </tr>\n",
              "  </thead>\n",
              "  <tbody>\n",
              "    <tr>\n",
              "      <th>count</th>\n",
              "      <td>1972.000000</td>\n",
              "      <td>1972.000000</td>\n",
              "      <td>1972.000000</td>\n",
              "      <td>1972.000000</td>\n",
              "      <td>1972.000000</td>\n",
              "      <td>1972.000000</td>\n",
              "      <td>1972.000000</td>\n",
              "      <td>1972.000000</td>\n",
              "      <td>1972.000000</td>\n",
              "    </tr>\n",
              "    <tr>\n",
              "      <th>mean</th>\n",
              "      <td>3.711460</td>\n",
              "      <td>122.508114</td>\n",
              "      <td>72.646045</td>\n",
              "      <td>27.466024</td>\n",
              "      <td>157.274848</td>\n",
              "      <td>32.650101</td>\n",
              "      <td>0.470965</td>\n",
              "      <td>33.158215</td>\n",
              "      <td>0.345335</td>\n",
              "    </tr>\n",
              "    <tr>\n",
              "      <th>std</th>\n",
              "      <td>3.306346</td>\n",
              "      <td>30.736081</td>\n",
              "      <td>12.239222</td>\n",
              "      <td>9.725665</td>\n",
              "      <td>83.124142</td>\n",
              "      <td>7.241027</td>\n",
              "      <td>0.321058</td>\n",
              "      <td>11.731969</td>\n",
              "      <td>0.475598</td>\n",
              "    </tr>\n",
              "    <tr>\n",
              "      <th>min</th>\n",
              "      <td>0.000000</td>\n",
              "      <td>44.000000</td>\n",
              "      <td>24.000000</td>\n",
              "      <td>7.000000</td>\n",
              "      <td>14.000000</td>\n",
              "      <td>18.200000</td>\n",
              "      <td>0.078000</td>\n",
              "      <td>21.000000</td>\n",
              "      <td>0.000000</td>\n",
              "    </tr>\n",
              "    <tr>\n",
              "      <th>25%</th>\n",
              "      <td>1.000000</td>\n",
              "      <td>99.000000</td>\n",
              "      <td>64.000000</td>\n",
              "      <td>20.600000</td>\n",
              "      <td>120.000000</td>\n",
              "      <td>27.500000</td>\n",
              "      <td>0.244000</td>\n",
              "      <td>24.000000</td>\n",
              "      <td>0.000000</td>\n",
              "    </tr>\n",
              "    <tr>\n",
              "      <th>50%</th>\n",
              "      <td>3.000000</td>\n",
              "      <td>119.000000</td>\n",
              "      <td>72.000000</td>\n",
              "      <td>24.300000</td>\n",
              "      <td>140.000000</td>\n",
              "      <td>32.400000</td>\n",
              "      <td>0.378000</td>\n",
              "      <td>29.000000</td>\n",
              "      <td>0.000000</td>\n",
              "    </tr>\n",
              "    <tr>\n",
              "      <th>75%</th>\n",
              "      <td>6.000000</td>\n",
              "      <td>142.000000</td>\n",
              "      <td>80.000000</td>\n",
              "      <td>33.000000</td>\n",
              "      <td>185.000000</td>\n",
              "      <td>36.800000</td>\n",
              "      <td>0.624000</td>\n",
              "      <td>40.000000</td>\n",
              "      <td>1.000000</td>\n",
              "    </tr>\n",
              "    <tr>\n",
              "      <th>max</th>\n",
              "      <td>17.000000</td>\n",
              "      <td>199.000000</td>\n",
              "      <td>122.000000</td>\n",
              "      <td>110.000000</td>\n",
              "      <td>744.000000</td>\n",
              "      <td>80.600000</td>\n",
              "      <td>2.420000</td>\n",
              "      <td>81.000000</td>\n",
              "      <td>1.000000</td>\n",
              "    </tr>\n",
              "  </tbody>\n",
              "</table>\n",
              "</div>"
            ],
            "text/plain": [
              "       Pregnancies      Glucose  ...          Age      Outcome\n",
              "count  1972.000000  1972.000000  ...  1972.000000  1972.000000\n",
              "mean      3.711460   122.508114  ...    33.158215     0.345335\n",
              "std       3.306346    30.736081  ...    11.731969     0.475598\n",
              "min       0.000000    44.000000  ...    21.000000     0.000000\n",
              "25%       1.000000    99.000000  ...    24.000000     0.000000\n",
              "50%       3.000000   119.000000  ...    29.000000     0.000000\n",
              "75%       6.000000   142.000000  ...    40.000000     1.000000\n",
              "max      17.000000   199.000000  ...    81.000000     1.000000\n",
              "\n",
              "[8 rows x 9 columns]"
            ]
          },
          "metadata": {
            "tags": []
          },
          "execution_count": 26
        }
      ]
    },
    {
      "cell_type": "markdown",
      "metadata": {
        "id": "xzdotzYWXMT1"
      },
      "source": [
        "Data cleaning for 'Insulin' is done.The minimum data for 'Insulin' is no more '0'."
      ]
    },
    {
      "cell_type": "markdown",
      "metadata": {
        "id": "2r_C8NvkbLFg"
      },
      "source": [
        "We are done with data cleaning."
      ]
    },
    {
      "cell_type": "markdown",
      "metadata": {
        "id": "vzaG7bL9bVv7"
      },
      "source": [
        "##**5.  Data Visualization**\n",
        "\n",
        "Some predictions are made : \n",
        "*\tThe patients with or without pregnancy will not affect diabetes.\n",
        "*\tThe patients with higher glucose level are predicted to have higher chance of getting diabetes.\n",
        "*\tThe patients with high blood pressure have higher a higher risk of developing   diabetes.\n",
        "*\tThe skin thickness of the patients will affect the diabetes.\n",
        "*\tThe patients insulin level will not affect diabetes.\n",
        "*\tThe patients with higher BMI are more likely predicted to have diabetes.\n",
        "* The patients with high Diabetes Pedigree Function score are more likely to have diabetes.\n",
        "*\tThe age does not really affect the possibility of having diabetes.\n"
      ]
    },
    {
      "cell_type": "code",
      "metadata": {
        "colab": {
          "base_uri": "https://localhost:8080/",
          "height": 1000
        },
        "id": "7-_uLoY6cQwV",
        "outputId": "31424670-d608-4a7f-c1d3-a2c940f2fa9e"
      },
      "source": [
        "#This is used to visualize our data and to check whether our predictions are accurate.\n",
        "for col in df.columns:\n",
        "  if col != \"Outcome\":\n",
        "      sns.catplot(\"Outcome\", col, \n",
        "               data = df)"
      ],
      "execution_count": 47,
      "outputs": [
        {
          "output_type": "stream",
          "text": [
            "/usr/local/lib/python3.7/dist-packages/seaborn/_decorators.py:43: FutureWarning: Pass the following variables as keyword args: x, y. From version 0.12, the only valid positional argument will be `data`, and passing other arguments without an explicit keyword will result in an error or misinterpretation.\n",
            "  FutureWarning\n",
            "/usr/local/lib/python3.7/dist-packages/seaborn/_decorators.py:43: FutureWarning: Pass the following variables as keyword args: x, y. From version 0.12, the only valid positional argument will be `data`, and passing other arguments without an explicit keyword will result in an error or misinterpretation.\n",
            "  FutureWarning\n",
            "/usr/local/lib/python3.7/dist-packages/seaborn/_decorators.py:43: FutureWarning: Pass the following variables as keyword args: x, y. From version 0.12, the only valid positional argument will be `data`, and passing other arguments without an explicit keyword will result in an error or misinterpretation.\n",
            "  FutureWarning\n",
            "/usr/local/lib/python3.7/dist-packages/seaborn/_decorators.py:43: FutureWarning: Pass the following variables as keyword args: x, y. From version 0.12, the only valid positional argument will be `data`, and passing other arguments without an explicit keyword will result in an error or misinterpretation.\n",
            "  FutureWarning\n",
            "/usr/local/lib/python3.7/dist-packages/seaborn/_decorators.py:43: FutureWarning: Pass the following variables as keyword args: x, y. From version 0.12, the only valid positional argument will be `data`, and passing other arguments without an explicit keyword will result in an error or misinterpretation.\n",
            "  FutureWarning\n",
            "/usr/local/lib/python3.7/dist-packages/seaborn/_decorators.py:43: FutureWarning: Pass the following variables as keyword args: x, y. From version 0.12, the only valid positional argument will be `data`, and passing other arguments without an explicit keyword will result in an error or misinterpretation.\n",
            "  FutureWarning\n",
            "/usr/local/lib/python3.7/dist-packages/seaborn/_decorators.py:43: FutureWarning: Pass the following variables as keyword args: x, y. From version 0.12, the only valid positional argument will be `data`, and passing other arguments without an explicit keyword will result in an error or misinterpretation.\n",
            "  FutureWarning\n",
            "/usr/local/lib/python3.7/dist-packages/seaborn/_decorators.py:43: FutureWarning: Pass the following variables as keyword args: x, y. From version 0.12, the only valid positional argument will be `data`, and passing other arguments without an explicit keyword will result in an error or misinterpretation.\n",
            "  FutureWarning\n"
          ],
          "name": "stderr"
        },
        {
          "output_type": "display_data",
          "data": {
            "image/png": "[encoded data removed]",
            "text/plain": [
              "<Figure size 360x360 with 1 Axes>"
            ]
          },
          "metadata": {
            "tags": [],
            "needs_background": "light"
          }
        },
        {
          "output_type": "display_data",
          "data": {
            "image/png": "[encoded data removed]",
            "text/plain": [
              "<Figure size 360x360 with 1 Axes>"
            ]
          },
          "metadata": {
            "tags": [],
            "needs_background": "light"
          }
        },
        {
          "output_type": "display_data",
          "data": {
            "image/png": "[encoded data removed]",
            "text/plain": [
              "<Figure size 360x360 with 1 Axes>"
            ]
          },
          "metadata": {
            "tags": [],
            "needs_background": "light"
          }
        },
        {
          "output_type": "display_data",
          "data": {
            "image/png": "[encoded data removed]",
            "text/plain": [
              "<Figure size 360x360 with 1 Axes>"
            ]
          },
          "metadata": {
            "tags": [],
            "needs_background": "light"
          }
        },
        {
          "output_type": "display_data",
          "data": {
            "image/png": "[encoded data removed]",
            "text/plain": [
              "<Figure size 360x360 with 1 Axes>"
            ]
          },
          "metadata": {
            "tags": [],
            "needs_background": "light"
          }
        },
        {
          "output_type": "display_data",
          "data": {
            "image/png": "[encoded data removed]",
            "text/plain": [
              "<Figure size 360x360 with 1 Axes>"
            ]
          },
          "metadata": {
            "tags": [],
            "needs_background": "light"
          }
        },
        {
          "output_type": "display_data",
          "data": {
            "image/png": "[encoded data removed]",
            "text/plain": [
              "<Figure size 360x360 with 1 Axes>"
            ]
          },
          "metadata": {
            "tags": [],
            "needs_background": "light"
          }
        },
        {
          "output_type": "display_data",
          "data": {
            "image/png": "[encoded data removed]",
            "text/plain": [
              "<Figure size 360x360 with 1 Axes>"
            ]
          },
          "metadata": {
            "tags": [],
            "needs_background": "light"
          }
        }
      ]
    },
    {
      "cell_type": "markdown",
      "metadata": {
        "id": "me5iuojHcd1K"
      },
      "source": [
        "**Pregnancies:**\n",
        "From the graph, the number of dots for both outcomes are almost the same. This shows that diabetes will not be affected by pregnancies. The prediction is true.\n",
        "\n",
        "**Glucose:**\n",
        "From the graph, the number of orange dots are more than blue dots at glucose level adound 150 to 200. This shows that the higher the glucose, the higher the number of diabetic patients. The prediction is true.\n",
        "\n",
        "**Blood Pressure:**\n",
        "From the graph, the number of orange dots are more than blue dots at blood pressure around 80 to 100 mm Hg. This shows that the higher theblood pressure, the higher the number of  diabetic patients. The prediction is true.\n",
        "\n",
        "**Skin Thickness:**\n",
        "From the graph, the number of orange dots increases after around 20 mm.   This shows that higher skin thickness increase the risk of diabetes. The prediction is true. \n",
        "\n",
        "**Insulin:**\n",
        "From the graph, a lot of orange dot occur around 100-200 mIU/L.However, there are also lots of blue dots at this level. This shows that insulin alone isn't a good indicator of diabetes. The prediction is partially true.\n",
        "\n",
        "**BMI**\n",
        "From the graph, the number of dots for both outcomes are almost the same. This shows that diabetes will not be affected by BMI. The prediction is false. \n",
        "\n",
        "**DiabetesPedigreeFunction**\n",
        "From the graph, blue dots are more compact at low scores while the orange dots ar more loose but quite evenly distributed as well. This is not a good indicator of diabetes. The prediction is false.\n",
        "\n",
        "**Age**\n",
        "From the graph, the number of orange dots are more than blued dots at age around 40 to 50. This shows that the middle age groups have higher possibility to have diabetes. The prediction is false."
      ]
    },
    {
      "cell_type": "markdown",
      "metadata": {
        "id": "Ge0rN3QEqNwR"
      },
      "source": [
        "We found some  difference between the results here with assumption made before data cleaning. \n",
        "\n",
        "Insulin is not a good indicator of diabetes as low insulin level and high insulin level (due to insulin resistance) both have its relation with diabetes. However, this does not affect our previous assumption as we are linking obesity with insulin resistance, and takes high insulin level for high BMI. So, we can consider that nothing is affected.\n",
        "\n",
        "After consideration, we decided not to make changes on data cleaning."
      ]
    },
    {
      "cell_type": "markdown",
      "metadata": {
        "id": "0ijsXKxztAsb"
      },
      "source": [
        "##**6. Choosing the Best Model**\n",
        "**Testing Different Models**\n",
        "\n",
        "Supervised learning uses a training set to teach models to yield the desired output. Classification uses an algorithm to accurately assign test data into specific categories (source: https://www.ibm.com/cloud/learn/supervised-learning).\n",
        "\n",
        "We will be testing the following models with our training data:\n",
        "* KNN or k-Nearest Neighbors\n",
        "* Decision Tree Classifier\n",
        "* Gaussian Naive Bayes\n",
        "* Random Forest Classifier\n"
      ]
    },
    {
      "cell_type": "markdown",
      "metadata": {
        "id": "u0yxRv8OGakm"
      },
      "source": [
        "Now, we split the dataset into training and test set."
      ]
    },
    {
      "cell_type": "code",
      "metadata": {
        "id": "yr3_sAaGyatP"
      },
      "source": [
        "X= df.drop(['Outcome'],axis=1)"
      ],
      "execution_count": 48,
      "outputs": []
    },
    {
      "cell_type": "code",
      "metadata": {
        "colab": {
          "base_uri": "https://localhost:8080/",
          "height": 419
        },
        "id": "VhRxvbT4yaU-",
        "outputId": "985ea344-0c0e-4258-c07b-8755a3abed4d"
      },
      "source": [
        "X"
      ],
      "execution_count": 49,
      "outputs": [
        {
          "output_type": "execute_result",
          "data": {
            "text/html": [
              "<div>\n",
              "<style scoped>\n",
              "    .dataframe tbody tr th:only-of-type {\n",
              "        vertical-align: middle;\n",
              "    }\n",
              "\n",
              "    .dataframe tbody tr th {\n",
              "        vertical-align: top;\n",
              "    }\n",
              "\n",
              "    .dataframe thead th {\n",
              "        text-align: right;\n",
              "    }\n",
              "</style>\n",
              "<table border=\"1\" class=\"dataframe\">\n",
              "  <thead>\n",
              "    <tr style=\"text-align: right;\">\n",
              "      <th></th>\n",
              "      <th>Pregnancies</th>\n",
              "      <th>Glucose</th>\n",
              "      <th>BloodPressure</th>\n",
              "      <th>SkinThickness</th>\n",
              "      <th>Insulin</th>\n",
              "      <th>BMI</th>\n",
              "      <th>DiabetesPedigreeFunction</th>\n",
              "      <th>Age</th>\n",
              "    </tr>\n",
              "  </thead>\n",
              "  <tbody>\n",
              "    <tr>\n",
              "      <th>0</th>\n",
              "      <td>2</td>\n",
              "      <td>138</td>\n",
              "      <td>62</td>\n",
              "      <td>35.0</td>\n",
              "      <td>185</td>\n",
              "      <td>33.6</td>\n",
              "      <td>0.127</td>\n",
              "      <td>47</td>\n",
              "    </tr>\n",
              "    <tr>\n",
              "      <th>1</th>\n",
              "      <td>0</td>\n",
              "      <td>84</td>\n",
              "      <td>82</td>\n",
              "      <td>31.0</td>\n",
              "      <td>125</td>\n",
              "      <td>38.2</td>\n",
              "      <td>0.233</td>\n",
              "      <td>23</td>\n",
              "    </tr>\n",
              "    <tr>\n",
              "      <th>2</th>\n",
              "      <td>0</td>\n",
              "      <td>145</td>\n",
              "      <td>90</td>\n",
              "      <td>24.3</td>\n",
              "      <td>185</td>\n",
              "      <td>44.2</td>\n",
              "      <td>0.630</td>\n",
              "      <td>31</td>\n",
              "    </tr>\n",
              "    <tr>\n",
              "      <th>3</th>\n",
              "      <td>0</td>\n",
              "      <td>135</td>\n",
              "      <td>68</td>\n",
              "      <td>42.0</td>\n",
              "      <td>250</td>\n",
              "      <td>42.3</td>\n",
              "      <td>0.365</td>\n",
              "      <td>24</td>\n",
              "    </tr>\n",
              "    <tr>\n",
              "      <th>4</th>\n",
              "      <td>1</td>\n",
              "      <td>139</td>\n",
              "      <td>62</td>\n",
              "      <td>41.0</td>\n",
              "      <td>480</td>\n",
              "      <td>40.7</td>\n",
              "      <td>0.536</td>\n",
              "      <td>21</td>\n",
              "    </tr>\n",
              "    <tr>\n",
              "      <th>...</th>\n",
              "      <td>...</td>\n",
              "      <td>...</td>\n",
              "      <td>...</td>\n",
              "      <td>...</td>\n",
              "      <td>...</td>\n",
              "      <td>...</td>\n",
              "      <td>...</td>\n",
              "      <td>...</td>\n",
              "    </tr>\n",
              "    <tr>\n",
              "      <th>1995</th>\n",
              "      <td>2</td>\n",
              "      <td>75</td>\n",
              "      <td>64</td>\n",
              "      <td>24.0</td>\n",
              "      <td>55</td>\n",
              "      <td>29.7</td>\n",
              "      <td>0.370</td>\n",
              "      <td>33</td>\n",
              "    </tr>\n",
              "    <tr>\n",
              "      <th>1996</th>\n",
              "      <td>8</td>\n",
              "      <td>179</td>\n",
              "      <td>72</td>\n",
              "      <td>42.0</td>\n",
              "      <td>130</td>\n",
              "      <td>32.7</td>\n",
              "      <td>0.719</td>\n",
              "      <td>36</td>\n",
              "    </tr>\n",
              "    <tr>\n",
              "      <th>1997</th>\n",
              "      <td>6</td>\n",
              "      <td>85</td>\n",
              "      <td>78</td>\n",
              "      <td>24.3</td>\n",
              "      <td>185</td>\n",
              "      <td>31.2</td>\n",
              "      <td>0.382</td>\n",
              "      <td>42</td>\n",
              "    </tr>\n",
              "    <tr>\n",
              "      <th>1998</th>\n",
              "      <td>0</td>\n",
              "      <td>129</td>\n",
              "      <td>110</td>\n",
              "      <td>46.0</td>\n",
              "      <td>130</td>\n",
              "      <td>67.1</td>\n",
              "      <td>0.319</td>\n",
              "      <td>26</td>\n",
              "    </tr>\n",
              "    <tr>\n",
              "      <th>1999</th>\n",
              "      <td>2</td>\n",
              "      <td>81</td>\n",
              "      <td>72</td>\n",
              "      <td>15.0</td>\n",
              "      <td>76</td>\n",
              "      <td>30.1</td>\n",
              "      <td>0.547</td>\n",
              "      <td>25</td>\n",
              "    </tr>\n",
              "  </tbody>\n",
              "</table>\n",
              "<p>1972 rows × 8 columns</p>\n",
              "</div>"
            ],
            "text/plain": [
              "      Pregnancies  Glucose  BloodPressure  ...   BMI  DiabetesPedigreeFunction  Age\n",
              "0               2      138             62  ...  33.6                     0.127   47\n",
              "1               0       84             82  ...  38.2                     0.233   23\n",
              "2               0      145             90  ...  44.2                     0.630   31\n",
              "3               0      135             68  ...  42.3                     0.365   24\n",
              "4               1      139             62  ...  40.7                     0.536   21\n",
              "...           ...      ...            ...  ...   ...                       ...  ...\n",
              "1995            2       75             64  ...  29.7                     0.370   33\n",
              "1996            8      179             72  ...  32.7                     0.719   36\n",
              "1997            6       85             78  ...  31.2                     0.382   42\n",
              "1998            0      129            110  ...  67.1                     0.319   26\n",
              "1999            2       81             72  ...  30.1                     0.547   25\n",
              "\n",
              "[1972 rows x 8 columns]"
            ]
          },
          "metadata": {
            "tags": []
          },
          "execution_count": 49
        }
      ]
    },
    {
      "cell_type": "code",
      "metadata": {
        "id": "_7ydJ_i5yqK9"
      },
      "source": [
        "y=df['Outcome']"
      ],
      "execution_count": 50,
      "outputs": []
    },
    {
      "cell_type": "code",
      "metadata": {
        "colab": {
          "base_uri": "https://localhost:8080/"
        },
        "id": "vBdzRmV5yp0D",
        "outputId": "c8ca3a35-6ecd-4e16-b32e-633ea7497272"
      },
      "source": [
        "y"
      ],
      "execution_count": 51,
      "outputs": [
        {
          "output_type": "execute_result",
          "data": {
            "text/plain": [
              "0       1\n",
              "1       0\n",
              "2       1\n",
              "3       1\n",
              "4       0\n",
              "       ..\n",
              "1995    0\n",
              "1996    1\n",
              "1997    0\n",
              "1998    1\n",
              "1999    0\n",
              "Name: Outcome, Length: 1972, dtype: int64"
            ]
          },
          "metadata": {
            "tags": []
          },
          "execution_count": 51
        }
      ]
    },
    {
      "cell_type": "code",
      "metadata": {
        "id": "xbN771yjyyLH"
      },
      "source": [
        "#Import Module\n",
        "# We create our training and testing datasets with a train_test_split method\n",
        "# At the moment train set size will be 80% of the data and test set size 20%\n",
        "from sklearn.model_selection import train_test_split\n",
        "\n",
        "\n",
        "train_X, test_X, train_y, test_y = train_test_split(X, y, \n",
        "                                                    train_size=0.8,\n",
        "                                                    test_size=0.2,\n",
        "                                                    random_state=122)"
      ],
      "execution_count": 52,
      "outputs": []
    },
    {
      "cell_type": "code",
      "metadata": {
        "colab": {
          "base_uri": "https://localhost:8080/"
        },
        "id": "2jXDgL0jC1av",
        "outputId": "c7115a67-d945-42ba-e39e-5a42b9293585"
      },
      "source": [
        "train_X.shape, test_X.shape"
      ],
      "execution_count": 53,
      "outputs": [
        {
          "output_type": "execute_result",
          "data": {
            "text/plain": [
              "((1577, 8), (395, 8))"
            ]
          },
          "metadata": {
            "tags": []
          },
          "execution_count": 53
        }
      ]
    },
    {
      "cell_type": "markdown",
      "metadata": {
        "id": "8MW37ccnt0pj"
      },
      "source": [
        "The training set consists of 1577 rows, while the test set consists of 395 rows.The ratio of training set: test set is 8:2."
      ]
    },
    {
      "cell_type": "code",
      "metadata": {
        "colab": {
          "base_uri": "https://localhost:8080/",
          "height": 419
        },
        "id": "Jez4ejgUEoLR",
        "outputId": "654a462f-01e5-4315-b218-4bdc0b58b320"
      },
      "source": [
        "train_X"
      ],
      "execution_count": 54,
      "outputs": [
        {
          "output_type": "execute_result",
          "data": {
            "text/html": [
              "<div>\n",
              "<style scoped>\n",
              "    .dataframe tbody tr th:only-of-type {\n",
              "        vertical-align: middle;\n",
              "    }\n",
              "\n",
              "    .dataframe tbody tr th {\n",
              "        vertical-align: top;\n",
              "    }\n",
              "\n",
              "    .dataframe thead th {\n",
              "        text-align: right;\n",
              "    }\n",
              "</style>\n",
              "<table border=\"1\" class=\"dataframe\">\n",
              "  <thead>\n",
              "    <tr style=\"text-align: right;\">\n",
              "      <th></th>\n",
              "      <th>Pregnancies</th>\n",
              "      <th>Glucose</th>\n",
              "      <th>BloodPressure</th>\n",
              "      <th>SkinThickness</th>\n",
              "      <th>Insulin</th>\n",
              "      <th>BMI</th>\n",
              "      <th>DiabetesPedigreeFunction</th>\n",
              "      <th>Age</th>\n",
              "    </tr>\n",
              "  </thead>\n",
              "  <tbody>\n",
              "    <tr>\n",
              "      <th>1474</th>\n",
              "      <td>3</td>\n",
              "      <td>173</td>\n",
              "      <td>84</td>\n",
              "      <td>33.0</td>\n",
              "      <td>474</td>\n",
              "      <td>35.7</td>\n",
              "      <td>0.258</td>\n",
              "      <td>22</td>\n",
              "    </tr>\n",
              "    <tr>\n",
              "      <th>1706</th>\n",
              "      <td>9</td>\n",
              "      <td>112</td>\n",
              "      <td>82</td>\n",
              "      <td>24.0</td>\n",
              "      <td>130</td>\n",
              "      <td>28.2</td>\n",
              "      <td>1.282</td>\n",
              "      <td>50</td>\n",
              "    </tr>\n",
              "    <tr>\n",
              "      <th>90</th>\n",
              "      <td>1</td>\n",
              "      <td>80</td>\n",
              "      <td>55</td>\n",
              "      <td>20.6</td>\n",
              "      <td>130</td>\n",
              "      <td>19.1</td>\n",
              "      <td>0.258</td>\n",
              "      <td>21</td>\n",
              "    </tr>\n",
              "    <tr>\n",
              "      <th>381</th>\n",
              "      <td>0</td>\n",
              "      <td>105</td>\n",
              "      <td>68</td>\n",
              "      <td>22.0</td>\n",
              "      <td>130</td>\n",
              "      <td>20.0</td>\n",
              "      <td>0.236</td>\n",
              "      <td>22</td>\n",
              "    </tr>\n",
              "    <tr>\n",
              "      <th>18</th>\n",
              "      <td>2</td>\n",
              "      <td>117</td>\n",
              "      <td>90</td>\n",
              "      <td>19.0</td>\n",
              "      <td>71</td>\n",
              "      <td>25.2</td>\n",
              "      <td>0.313</td>\n",
              "      <td>21</td>\n",
              "    </tr>\n",
              "    <tr>\n",
              "      <th>...</th>\n",
              "      <td>...</td>\n",
              "      <td>...</td>\n",
              "      <td>...</td>\n",
              "      <td>...</td>\n",
              "      <td>...</td>\n",
              "      <td>...</td>\n",
              "      <td>...</td>\n",
              "      <td>...</td>\n",
              "    </tr>\n",
              "    <tr>\n",
              "      <th>842</th>\n",
              "      <td>0</td>\n",
              "      <td>84</td>\n",
              "      <td>64</td>\n",
              "      <td>22.0</td>\n",
              "      <td>66</td>\n",
              "      <td>35.8</td>\n",
              "      <td>0.545</td>\n",
              "      <td>21</td>\n",
              "    </tr>\n",
              "    <tr>\n",
              "      <th>1373</th>\n",
              "      <td>12</td>\n",
              "      <td>151</td>\n",
              "      <td>70</td>\n",
              "      <td>40.0</td>\n",
              "      <td>271</td>\n",
              "      <td>41.8</td>\n",
              "      <td>0.742</td>\n",
              "      <td>38</td>\n",
              "    </tr>\n",
              "    <tr>\n",
              "      <th>400</th>\n",
              "      <td>4</td>\n",
              "      <td>95</td>\n",
              "      <td>64</td>\n",
              "      <td>24.3</td>\n",
              "      <td>185</td>\n",
              "      <td>32.0</td>\n",
              "      <td>0.161</td>\n",
              "      <td>31</td>\n",
              "    </tr>\n",
              "    <tr>\n",
              "      <th>1974</th>\n",
              "      <td>1</td>\n",
              "      <td>153</td>\n",
              "      <td>82</td>\n",
              "      <td>42.0</td>\n",
              "      <td>485</td>\n",
              "      <td>40.6</td>\n",
              "      <td>0.687</td>\n",
              "      <td>23</td>\n",
              "    </tr>\n",
              "    <tr>\n",
              "      <th>1537</th>\n",
              "      <td>8</td>\n",
              "      <td>126</td>\n",
              "      <td>74</td>\n",
              "      <td>38.0</td>\n",
              "      <td>75</td>\n",
              "      <td>25.9</td>\n",
              "      <td>0.162</td>\n",
              "      <td>39</td>\n",
              "    </tr>\n",
              "  </tbody>\n",
              "</table>\n",
              "<p>1577 rows × 8 columns</p>\n",
              "</div>"
            ],
            "text/plain": [
              "      Pregnancies  Glucose  BloodPressure  ...   BMI  DiabetesPedigreeFunction  Age\n",
              "1474            3      173             84  ...  35.7                     0.258   22\n",
              "1706            9      112             82  ...  28.2                     1.282   50\n",
              "90              1       80             55  ...  19.1                     0.258   21\n",
              "381             0      105             68  ...  20.0                     0.236   22\n",
              "18              2      117             90  ...  25.2                     0.313   21\n",
              "...           ...      ...            ...  ...   ...                       ...  ...\n",
              "842             0       84             64  ...  35.8                     0.545   21\n",
              "1373           12      151             70  ...  41.8                     0.742   38\n",
              "400             4       95             64  ...  32.0                     0.161   31\n",
              "1974            1      153             82  ...  40.6                     0.687   23\n",
              "1537            8      126             74  ...  25.9                     0.162   39\n",
              "\n",
              "[1577 rows x 8 columns]"
            ]
          },
          "metadata": {
            "tags": []
          },
          "execution_count": 54
        }
      ]
    },
    {
      "cell_type": "code",
      "metadata": {
        "colab": {
          "base_uri": "https://localhost:8080/",
          "height": 419
        },
        "id": "hrJc1vkAEcEo",
        "outputId": "23b4548a-8dc9-4590-cba0-4006bd4c40bf"
      },
      "source": [
        "test_X"
      ],
      "execution_count": 55,
      "outputs": [
        {
          "output_type": "execute_result",
          "data": {
            "text/html": [
              "<div>\n",
              "<style scoped>\n",
              "    .dataframe tbody tr th:only-of-type {\n",
              "        vertical-align: middle;\n",
              "    }\n",
              "\n",
              "    .dataframe tbody tr th {\n",
              "        vertical-align: top;\n",
              "    }\n",
              "\n",
              "    .dataframe thead th {\n",
              "        text-align: right;\n",
              "    }\n",
              "</style>\n",
              "<table border=\"1\" class=\"dataframe\">\n",
              "  <thead>\n",
              "    <tr style=\"text-align: right;\">\n",
              "      <th></th>\n",
              "      <th>Pregnancies</th>\n",
              "      <th>Glucose</th>\n",
              "      <th>BloodPressure</th>\n",
              "      <th>SkinThickness</th>\n",
              "      <th>Insulin</th>\n",
              "      <th>BMI</th>\n",
              "      <th>DiabetesPedigreeFunction</th>\n",
              "      <th>Age</th>\n",
              "    </tr>\n",
              "  </thead>\n",
              "  <tbody>\n",
              "    <tr>\n",
              "      <th>1546</th>\n",
              "      <td>0</td>\n",
              "      <td>173</td>\n",
              "      <td>78</td>\n",
              "      <td>32.0</td>\n",
              "      <td>265</td>\n",
              "      <td>46.5</td>\n",
              "      <td>1.159</td>\n",
              "      <td>58</td>\n",
              "    </tr>\n",
              "    <tr>\n",
              "      <th>614</th>\n",
              "      <td>11</td>\n",
              "      <td>138</td>\n",
              "      <td>74</td>\n",
              "      <td>26.0</td>\n",
              "      <td>144</td>\n",
              "      <td>36.1</td>\n",
              "      <td>0.557</td>\n",
              "      <td>50</td>\n",
              "    </tr>\n",
              "    <tr>\n",
              "      <th>1081</th>\n",
              "      <td>2</td>\n",
              "      <td>108</td>\n",
              "      <td>64</td>\n",
              "      <td>24.3</td>\n",
              "      <td>185</td>\n",
              "      <td>30.8</td>\n",
              "      <td>0.158</td>\n",
              "      <td>21</td>\n",
              "    </tr>\n",
              "    <tr>\n",
              "      <th>603</th>\n",
              "      <td>7</td>\n",
              "      <td>150</td>\n",
              "      <td>78</td>\n",
              "      <td>29.0</td>\n",
              "      <td>126</td>\n",
              "      <td>35.2</td>\n",
              "      <td>0.692</td>\n",
              "      <td>54</td>\n",
              "    </tr>\n",
              "    <tr>\n",
              "      <th>151</th>\n",
              "      <td>4</td>\n",
              "      <td>114</td>\n",
              "      <td>65</td>\n",
              "      <td>20.6</td>\n",
              "      <td>130</td>\n",
              "      <td>21.9</td>\n",
              "      <td>0.432</td>\n",
              "      <td>37</td>\n",
              "    </tr>\n",
              "    <tr>\n",
              "      <th>...</th>\n",
              "      <td>...</td>\n",
              "      <td>...</td>\n",
              "      <td>...</td>\n",
              "      <td>...</td>\n",
              "      <td>...</td>\n",
              "      <td>...</td>\n",
              "      <td>...</td>\n",
              "      <td>...</td>\n",
              "    </tr>\n",
              "    <tr>\n",
              "      <th>1104</th>\n",
              "      <td>0</td>\n",
              "      <td>179</td>\n",
              "      <td>50</td>\n",
              "      <td>36.0</td>\n",
              "      <td>159</td>\n",
              "      <td>37.8</td>\n",
              "      <td>0.455</td>\n",
              "      <td>22</td>\n",
              "    </tr>\n",
              "    <tr>\n",
              "      <th>1965</th>\n",
              "      <td>4</td>\n",
              "      <td>154</td>\n",
              "      <td>62</td>\n",
              "      <td>31.0</td>\n",
              "      <td>284</td>\n",
              "      <td>32.8</td>\n",
              "      <td>0.237</td>\n",
              "      <td>23</td>\n",
              "    </tr>\n",
              "    <tr>\n",
              "      <th>1559</th>\n",
              "      <td>0</td>\n",
              "      <td>136</td>\n",
              "      <td>74</td>\n",
              "      <td>49.0</td>\n",
              "      <td>220</td>\n",
              "      <td>20.1</td>\n",
              "      <td>0.820</td>\n",
              "      <td>44</td>\n",
              "    </tr>\n",
              "    <tr>\n",
              "      <th>1895</th>\n",
              "      <td>1</td>\n",
              "      <td>79</td>\n",
              "      <td>75</td>\n",
              "      <td>30.0</td>\n",
              "      <td>185</td>\n",
              "      <td>32.0</td>\n",
              "      <td>0.396</td>\n",
              "      <td>22</td>\n",
              "    </tr>\n",
              "    <tr>\n",
              "      <th>1909</th>\n",
              "      <td>15</td>\n",
              "      <td>136</td>\n",
              "      <td>70</td>\n",
              "      <td>32.0</td>\n",
              "      <td>110</td>\n",
              "      <td>37.1</td>\n",
              "      <td>0.153</td>\n",
              "      <td>43</td>\n",
              "    </tr>\n",
              "  </tbody>\n",
              "</table>\n",
              "<p>395 rows × 8 columns</p>\n",
              "</div>"
            ],
            "text/plain": [
              "      Pregnancies  Glucose  BloodPressure  ...   BMI  DiabetesPedigreeFunction  Age\n",
              "1546            0      173             78  ...  46.5                     1.159   58\n",
              "614            11      138             74  ...  36.1                     0.557   50\n",
              "1081            2      108             64  ...  30.8                     0.158   21\n",
              "603             7      150             78  ...  35.2                     0.692   54\n",
              "151             4      114             65  ...  21.9                     0.432   37\n",
              "...           ...      ...            ...  ...   ...                       ...  ...\n",
              "1104            0      179             50  ...  37.8                     0.455   22\n",
              "1965            4      154             62  ...  32.8                     0.237   23\n",
              "1559            0      136             74  ...  20.1                     0.820   44\n",
              "1895            1       79             75  ...  32.0                     0.396   22\n",
              "1909           15      136             70  ...  37.1                     0.153   43\n",
              "\n",
              "[395 rows x 8 columns]"
            ]
          },
          "metadata": {
            "tags": []
          },
          "execution_count": 55
        }
      ]
    },
    {
      "cell_type": "code",
      "metadata": {
        "colab": {
          "base_uri": "https://localhost:8080/"
        },
        "id": "BFZT9wvJC4FY",
        "outputId": "5e3003dd-83ff-4746-f96e-3fafaf301a44"
      },
      "source": [
        "train_y.shape, test_y.shape"
      ],
      "execution_count": 56,
      "outputs": [
        {
          "output_type": "execute_result",
          "data": {
            "text/plain": [
              "((1577,), (395,))"
            ]
          },
          "metadata": {
            "tags": []
          },
          "execution_count": 56
        }
      ]
    },
    {
      "cell_type": "code",
      "metadata": {
        "colab": {
          "base_uri": "https://localhost:8080/"
        },
        "id": "MKyLytrJESw9",
        "outputId": "b4aa9871-d5d4-4357-c1fc-547bc5a36fe8"
      },
      "source": [
        "train_y"
      ],
      "execution_count": 57,
      "outputs": [
        {
          "output_type": "execute_result",
          "data": {
            "text/plain": [
              "1474    1\n",
              "1706    1\n",
              "90      0\n",
              "381     0\n",
              "18      0\n",
              "       ..\n",
              "842     0\n",
              "1373    1\n",
              "400     1\n",
              "1974    0\n",
              "1537    0\n",
              "Name: Outcome, Length: 1577, dtype: int64"
            ]
          },
          "metadata": {
            "tags": []
          },
          "execution_count": 57
        }
      ]
    },
    {
      "cell_type": "code",
      "metadata": {
        "colab": {
          "base_uri": "https://localhost:8080/"
        },
        "id": "40VH9TerEfZM",
        "outputId": "4d26ecdf-3c6a-4888-d5a6-e55f2c5333ac"
      },
      "source": [
        "test_y"
      ],
      "execution_count": 58,
      "outputs": [
        {
          "output_type": "execute_result",
          "data": {
            "text/plain": [
              "1546    0\n",
              "614     1\n",
              "1081    0\n",
              "603     1\n",
              "151     0\n",
              "       ..\n",
              "1104    1\n",
              "1965    0\n",
              "1559    1\n",
              "1895    0\n",
              "1909    1\n",
              "Name: Outcome, Length: 395, dtype: int64"
            ]
          },
          "metadata": {
            "tags": []
          },
          "execution_count": 58
        }
      ]
    },
    {
      "cell_type": "markdown",
      "metadata": {
        "id": "6zpYLcI0FEqP"
      },
      "source": [
        "#**KNN (k-Nearest Neighbors)**"
      ]
    },
    {
      "cell_type": "code",
      "metadata": {
        "id": "nqrE4eMfqKP0"
      },
      "source": [
        "from sklearn.neighbors import KNeighborsClassifier\n",
        "\n",
        "#import metrics model to check the accuracy \n",
        "from sklearn import metrics\n",
        "\n",
        "#Try running from k=1 through 25 and record testing accuracy\n",
        "k_range = range(1,26)\n",
        "scores = {}\n",
        "scores_list = []\n",
        "for k in k_range:\n",
        "    knn = KNeighborsClassifier(n_neighbors = k)\n",
        "    knn.fit(train_X, train_y)\n",
        "    pred_1 = knn.predict(test_X)\n",
        "    scores[k] = metrics.accuracy_score(test_y, pred_1)\n",
        "    scores_list.append(metrics.accuracy_score(test_y, pred_1))"
      ],
      "execution_count": 60,
      "outputs": []
    },
    {
      "cell_type": "code",
      "metadata": {
        "colab": {
          "base_uri": "https://localhost:8080/"
        },
        "id": "NwcUZDYqF1m6",
        "outputId": "de507c73-67d9-49f2-c7f9-68ba00d05779"
      },
      "source": [
        "print(\"-------------------------------\")\n",
        "print(\"k-value |     Test Accuracy\")\n",
        "print(\"-------------------------------\")\n",
        "for a,b in zip(k_range, scores_list):\n",
        "  print(a, \"\\t|  \", b)\n",
        "print(\"-------------------------------\")"
      ],
      "execution_count": 61,
      "outputs": [
        {
          "output_type": "stream",
          "text": [
            "-------------------------------\n",
            "k-value |     Test Accuracy\n",
            "-------------------------------\n",
            "1 \t|   0.959493670886076\n",
            "2 \t|   0.8886075949367088\n",
            "3 \t|   0.8607594936708861\n",
            "4 \t|   0.8075949367088607\n",
            "5 \t|   0.7924050632911392\n",
            "6 \t|   0.7924050632911392\n",
            "7 \t|   0.7873417721518987\n",
            "8 \t|   0.789873417721519\n",
            "9 \t|   0.7772151898734178\n",
            "10 \t|   0.779746835443038\n",
            "11 \t|   0.7746835443037975\n",
            "12 \t|   0.7670886075949367\n",
            "13 \t|   0.7645569620253164\n",
            "14 \t|   0.7493670886075949\n",
            "15 \t|   0.7569620253164557\n",
            "16 \t|   0.7645569620253164\n",
            "17 \t|   0.7670886075949367\n",
            "18 \t|   0.769620253164557\n",
            "19 \t|   0.7772151898734178\n",
            "20 \t|   0.779746835443038\n",
            "21 \t|   0.7670886075949367\n",
            "22 \t|   0.7721518987341772\n",
            "23 \t|   0.7721518987341772\n",
            "24 \t|   0.7772151898734178\n",
            "25 \t|   0.7721518987341772\n",
            "-------------------------------\n"
          ],
          "name": "stdout"
        }
      ]
    },
    {
      "cell_type": "code",
      "metadata": {
        "colab": {
          "base_uri": "https://localhost:8080/",
          "height": 296
        },
        "id": "d97m26uzGCpz",
        "outputId": "452c6028-6070-4b08-b830-b0310443d485"
      },
      "source": [
        "#We plot the relationship between K and the testing accuracy\n",
        "plt.plot(k_range,scores_list)\n",
        "plt.xlabel('Value of K for KNN')\n",
        "plt.ylabel('Testing Accuracy')"
      ],
      "execution_count": 62,
      "outputs": [
        {
          "output_type": "execute_result",
          "data": {
            "text/plain": [
              "Text(0, 0.5, 'Testing Accuracy')"
            ]
          },
          "metadata": {
            "tags": []
          },
          "execution_count": 62
        },
        {
          "output_type": "display_data",
          "data": {
            "image/png": "[encoded data removed]",
            "text/plain": [
              "<Figure size 432x288 with 1 Axes>"
            ]
          },
          "metadata": {
            "tags": [],
            "needs_background": "light"
          }
        }
      ]
    },
    {
      "cell_type": "markdown",
      "metadata": {
        "id": "vqVN9HpZGKI-"
      },
      "source": [
        "From the result, we choose **k = 3** since we opt to choose odd number with highest accuracy while excluding 1. "
      ]
    },
    {
      "cell_type": "code",
      "metadata": {
        "colab": {
          "base_uri": "https://localhost:8080/"
        },
        "id": "bP1YagDXG__Y",
        "outputId": "e13b86ae-f95f-498e-9316-26418281cf42"
      },
      "source": [
        "knn = KNeighborsClassifier(n_neighbors = 3)\n",
        "knn.fit(train_X, train_y)"
      ],
      "execution_count": 63,
      "outputs": [
        {
          "output_type": "execute_result",
          "data": {
            "text/plain": [
              "KNeighborsClassifier(algorithm='auto', leaf_size=30, metric='minkowski',\n",
              "                     metric_params=None, n_jobs=None, n_neighbors=3, p=2,\n",
              "                     weights='uniform')"
            ]
          },
          "metadata": {
            "tags": []
          },
          "execution_count": 63
        }
      ]
    },
    {
      "cell_type": "code",
      "metadata": {
        "colab": {
          "base_uri": "https://localhost:8080/"
        },
        "id": "Cbh0G44lpaiL",
        "outputId": "d964ffb6-7152-4be7-97a8-958a12ad7793"
      },
      "source": [
        "# We can ask the model to directly calculate the accuracy\n",
        "knn.score(train_X, train_y)"
      ],
      "execution_count": 64,
      "outputs": [
        {
          "output_type": "execute_result",
          "data": {
            "text/plain": [
              "0.9790741915028536"
            ]
          },
          "metadata": {
            "tags": []
          },
          "execution_count": 64
        }
      ]
    },
    {
      "cell_type": "code",
      "metadata": {
        "colab": {
          "base_uri": "https://localhost:8080/"
        },
        "id": "3jhxp7ErpgXX",
        "outputId": "650ed45e-aee4-47c8-8402-aac6a0937e2a"
      },
      "source": [
        "knn.score(test_X,test_y)"
      ],
      "execution_count": 65,
      "outputs": [
        {
          "output_type": "execute_result",
          "data": {
            "text/plain": [
              "0.8607594936708861"
            ]
          },
          "metadata": {
            "tags": []
          },
          "execution_count": 65
        }
      ]
    },
    {
      "cell_type": "code",
      "metadata": {
        "colab": {
          "base_uri": "https://localhost:8080/"
        },
        "id": "b2wPx1yxpmTe",
        "outputId": "da8c1aca-2304-4297-fbd5-7d183e7d79de"
      },
      "source": [
        "from sklearn.metrics import accuracy_score, classification_report, confusion_matrix\n",
        "\n",
        "# We can also let the model predict the values for the test set\n",
        "pred_1 = knn.predict(test_X)\n",
        "print(pred_1[:10])"
      ],
      "execution_count": 66,
      "outputs": [
        {
          "output_type": "stream",
          "text": [
            "[0 0 0 1 0 0 0 0 0 0]\n"
          ],
          "name": "stdout"
        }
      ]
    },
    {
      "cell_type": "code",
      "metadata": {
        "colab": {
          "base_uri": "https://localhost:8080/"
        },
        "id": "f8XWCI1Npw2-",
        "outputId": "908e6dcf-5601-40a4-ef8b-5b895745c294"
      },
      "source": [
        "# And calculate the accuracy\n",
        "print(\"Accuracy:\", accuracy_score(test_y, pred_1))"
      ],
      "execution_count": 67,
      "outputs": [
        {
          "output_type": "stream",
          "text": [
            "Accuracy: 0.8607594936708861\n"
          ],
          "name": "stdout"
        }
      ]
    },
    {
      "cell_type": "code",
      "metadata": {
        "colab": {
          "base_uri": "https://localhost:8080/"
        },
        "id": "B1jbrkiTp3p8",
        "outputId": "df24e3ce-a851-4760-9df5-c40b1099a328"
      },
      "source": [
        "# Report for other classification measures\n",
        "print(\"Classification report:\")\n",
        "print(classification_report(test_y, pred_1))"
      ],
      "execution_count": 68,
      "outputs": [
        {
          "output_type": "stream",
          "text": [
            "Classification report:\n",
            "              precision    recall  f1-score   support\n",
            "\n",
            "           0       0.88      0.92      0.90       266\n",
            "           1       0.82      0.73      0.77       129\n",
            "\n",
            "    accuracy                           0.86       395\n",
            "   macro avg       0.85      0.83      0.84       395\n",
            "weighted avg       0.86      0.86      0.86       395\n",
            "\n"
          ],
          "name": "stdout"
        }
      ]
    },
    {
      "cell_type": "markdown",
      "metadata": {
        "id": "J_kLpiUvqQEI"
      },
      "source": [
        "**Note:** \n",
        "* The **recall** means \"how many of this class you find over the whole number of element of this class\"\n",
        "* The **precision** will be \"how many are correctly classified among that class\"\n",
        "* The **f1-score** is the harmonic mean between precision & recall\n",
        "* The **support** is the number of occurence of the given class in your dataset "
      ]
    },
    {
      "cell_type": "code",
      "metadata": {
        "colab": {
          "base_uri": "https://localhost:8080/"
        },
        "id": "9XpuKZLSp-Zq",
        "outputId": "6bf31113-099f-491a-ec7e-09739ce7d477"
      },
      "source": [
        "# And the confusion matrix\n",
        "print(\"Confusion matrix:\")\n",
        "print(confusion_matrix(test_y, pred_1))"
      ],
      "execution_count": 69,
      "outputs": [
        {
          "output_type": "stream",
          "text": [
            "Confusion matrix:\n",
            "[[246  20]\n",
            " [ 35  94]]\n"
          ],
          "name": "stdout"
        }
      ]
    },
    {
      "cell_type": "markdown",
      "metadata": {
        "id": "tslKg6zPMz_1"
      },
      "source": [
        "KNN is not a god model for the prediction. It is acceptable to give wrong prediction of labelling a non-diabetic person diabetic, however, labelling a diabeic person as non-diabetic can have serious consequences. This may be due to an imbalanced dataset skewing towards non-diabetic."
      ]
    },
    {
      "cell_type": "code",
      "metadata": {
        "colab": {
          "base_uri": "https://localhost:8080/",
          "height": 342
        },
        "id": "pyaV_OIFhOT9",
        "outputId": "a18fc4e4-da1d-4363-831d-35052c8d5273"
      },
      "source": [
        "cnf_matrix = metrics.confusion_matrix(test_y, pred_1)\n",
        "cnf_matrix\n",
        "class_names=[0,1] # name  of classes\n",
        "fig, ax = plt.subplots()\n",
        "tick_marks = np.arange(len(class_names))\n",
        "plt.xticks(tick_marks, class_names)\n",
        "plt.yticks(tick_marks, class_names)\n",
        "# create heatmap\n",
        "sns.heatmap(pd.DataFrame(cnf_matrix), annot=True, cmap=\"YlGnBu\" ,fmt='g')\n",
        "ax.xaxis.set_label_position(\"top\")\n",
        "plt.tight_layout()\n",
        "plt.title('Confusion matrix', y=1.1)\n",
        "plt.ylabel('Actual label')\n",
        "plt.xlabel('Predicted label')"
      ],
      "execution_count": 70,
      "outputs": [
        {
          "output_type": "execute_result",
          "data": {
            "text/plain": [
              "Text(0.5, 257.44, 'Predicted label')"
            ]
          },
          "metadata": {
            "tags": []
          },
          "execution_count": 70
        },
        {
          "output_type": "display_data",
          "data": {
            "image/png": "[encoded data removed]",
            "text/plain": [
              "<Figure size 432x288 with 2 Axes>"
            ]
          },
          "metadata": {
            "tags": [],
            "needs_background": "light"
          }
        }
      ]
    },
    {
      "cell_type": "markdown",
      "metadata": {
        "id": "NdegAc3Pq72D"
      },
      "source": [
        "**Note:**\n",
        "A confusion matrix is a summary of prediction results on a classification problem. The number of correct and incorrect predictions are summarized with count values and broken down by each class.\n",
        "\n",
        "[[TN  FP]\n",
        "\n",
        "[FN TP]]\n",
        "\n",
        "* TP: True postive\n",
        "*TN: True negative\n",
        "*FP: False positive\n",
        "*FN: False Negative\n"
      ]
    },
    {
      "cell_type": "markdown",
      "metadata": {
        "id": "Mtl3hBvis3HZ"
      },
      "source": [
        "#**Decision Tree**"
      ]
    },
    {
      "cell_type": "code",
      "metadata": {
        "id": "osx9XiiAtBkD"
      },
      "source": [
        "from sklearn.tree import DecisionTreeClassifier\n",
        "from sklearn.metrics import confusion_matrix\n",
        "from sklearn.metrics import r2_score\n",
        "from sklearn.metrics import roc_curve\n",
        "from sklearn.metrics import average_precision_score, precision_recall_curve\n",
        "from sklearn.metrics import auc, plot_precision_recall_curve\n",
        "from sklearn import metrics"
      ],
      "execution_count": 71,
      "outputs": []
    },
    {
      "cell_type": "code",
      "metadata": {
        "id": "bp_PD6notEeL"
      },
      "source": [
        "dtc=DecisionTreeClassifier()"
      ],
      "execution_count": 72,
      "outputs": []
    },
    {
      "cell_type": "code",
      "metadata": {
        "id": "FOHvkcDStGbl"
      },
      "source": [
        "dtc=dtc.fit(train_X,train_y)"
      ],
      "execution_count": 73,
      "outputs": []
    },
    {
      "cell_type": "code",
      "metadata": {
        "id": "JOSH_S0VtJsD"
      },
      "source": [
        "pred_2=dtc.predict(test_X)"
      ],
      "execution_count": 74,
      "outputs": []
    },
    {
      "cell_type": "code",
      "metadata": {
        "colab": {
          "base_uri": "https://localhost:8080/"
        },
        "id": "vUz_055JuDCa",
        "outputId": "3aee3b8c-0b5e-4e19-d164-92d97dae8ca2"
      },
      "source": [
        "print(pred_2[:10])"
      ],
      "execution_count": 75,
      "outputs": [
        {
          "output_type": "stream",
          "text": [
            "[0 1 0 1 0 0 0 0 0 1]\n"
          ],
          "name": "stdout"
        }
      ]
    },
    {
      "cell_type": "code",
      "metadata": {
        "colab": {
          "base_uri": "https://localhost:8080/"
        },
        "id": "44BWsj_MuHi8",
        "outputId": "ab24ea5d-84c6-49d5-cbf3-c1e901c2de6d"
      },
      "source": [
        "print(\"Accuracy:\", accuracy_score(test_y, pred_2))"
      ],
      "execution_count": 76,
      "outputs": [
        {
          "output_type": "stream",
          "text": [
            "Accuracy: 0.9696202531645569\n"
          ],
          "name": "stdout"
        }
      ]
    },
    {
      "cell_type": "code",
      "metadata": {
        "colab": {
          "base_uri": "https://localhost:8080/"
        },
        "id": "tqgo4wrsuMVh",
        "outputId": "f0690130-f2b5-4b2c-a941-2a918edd3d42"
      },
      "source": [
        "# Report for other classification measures\n",
        "print(\"Classification report:\")\n",
        "print(classification_report(test_y, pred_2))"
      ],
      "execution_count": 77,
      "outputs": [
        {
          "output_type": "stream",
          "text": [
            "Classification report:\n",
            "              precision    recall  f1-score   support\n",
            "\n",
            "           0       0.98      0.97      0.98       266\n",
            "           1       0.95      0.96      0.95       129\n",
            "\n",
            "    accuracy                           0.97       395\n",
            "   macro avg       0.96      0.97      0.97       395\n",
            "weighted avg       0.97      0.97      0.97       395\n",
            "\n"
          ],
          "name": "stdout"
        }
      ]
    },
    {
      "cell_type": "code",
      "metadata": {
        "colab": {
          "base_uri": "https://localhost:8080/"
        },
        "id": "U06Pqk1auOo5",
        "outputId": "c5bfbe9a-449c-47e0-83d9-df96057c9f71"
      },
      "source": [
        "# And the confusion matrix\n",
        "print(\"Confusion matrix:\")\n",
        "print(confusion_matrix(test_y, pred_2))"
      ],
      "execution_count": 78,
      "outputs": [
        {
          "output_type": "stream",
          "text": [
            "Confusion matrix:\n",
            "[[259   7]\n",
            " [  5 124]]\n"
          ],
          "name": "stdout"
        }
      ]
    },
    {
      "cell_type": "code",
      "metadata": {
        "colab": {
          "base_uri": "https://localhost:8080/",
          "height": 342
        },
        "id": "QXTME7-DjAth",
        "outputId": "6358cc5b-337c-4bcc-cc6a-576c73f9688e"
      },
      "source": [
        "cnf_matrix = metrics.confusion_matrix(test_y, pred_2)\n",
        "cnf_matrix\n",
        "class_names=[0,1] # name  of classes\n",
        "fig, ax = plt.subplots()\n",
        "tick_marks = np.arange(len(class_names))\n",
        "plt.xticks(tick_marks, class_names)\n",
        "plt.yticks(tick_marks, class_names)\n",
        "# create heatmap\n",
        "sns.heatmap(pd.DataFrame(cnf_matrix), annot=True, cmap=\"YlGnBu\" ,fmt='g')\n",
        "ax.xaxis.set_label_position(\"top\")\n",
        "plt.tight_layout()\n",
        "plt.title('Confusion matrix', y=1.1)\n",
        "plt.ylabel('Actual label')\n",
        "plt.xlabel('Predicted label')"
      ],
      "execution_count": 79,
      "outputs": [
        {
          "output_type": "execute_result",
          "data": {
            "text/plain": [
              "Text(0.5, 257.44, 'Predicted label')"
            ]
          },
          "metadata": {
            "tags": []
          },
          "execution_count": 79
        },
        {
          "output_type": "display_data",
          "data": {
            "image/png": "[encoded data removed]",
            "text/plain": [
              "<Figure size 432x288 with 2 Axes>"
            ]
          },
          "metadata": {
            "tags": [],
            "needs_background": "light"
          }
        }
      ]
    },
    {
      "cell_type": "markdown",
      "metadata": {
        "id": "zq_Jdga9uhrg"
      },
      "source": [
        "#**Naive-Bayes**"
      ]
    },
    {
      "cell_type": "code",
      "metadata": {
        "id": "9_f_0dqFug2Y"
      },
      "source": [
        "from sklearn.naive_bayes import GaussianNB"
      ],
      "execution_count": 80,
      "outputs": []
    },
    {
      "cell_type": "code",
      "metadata": {
        "id": "xRZizYgtunLs"
      },
      "source": [
        "nb=GaussianNB()"
      ],
      "execution_count": 81,
      "outputs": []
    },
    {
      "cell_type": "code",
      "metadata": {
        "colab": {
          "base_uri": "https://localhost:8080/"
        },
        "id": "X0GiG3Zsup1W",
        "outputId": "aec03c62-4c02-45da-ed1a-88aca60550ec"
      },
      "source": [
        "nb.fit(train_X,train_y)"
      ],
      "execution_count": 82,
      "outputs": [
        {
          "output_type": "execute_result",
          "data": {
            "text/plain": [
              "GaussianNB(priors=None, var_smoothing=1e-09)"
            ]
          },
          "metadata": {
            "tags": []
          },
          "execution_count": 82
        }
      ]
    },
    {
      "cell_type": "code",
      "metadata": {
        "id": "Nzp3e13iuqql"
      },
      "source": [
        "pred_3=nb.predict(test_X)"
      ],
      "execution_count": 83,
      "outputs": []
    },
    {
      "cell_type": "code",
      "metadata": {
        "colab": {
          "base_uri": "https://localhost:8080/"
        },
        "id": "jYq4lsvnuv19",
        "outputId": "74988a53-70b3-4d18-eeea-3c4426b1862c"
      },
      "source": [
        "print(pred_3[:10])"
      ],
      "execution_count": 84,
      "outputs": [
        {
          "output_type": "stream",
          "text": [
            "[1 1 0 1 0 1 0 0 0 0]\n"
          ],
          "name": "stdout"
        }
      ]
    },
    {
      "cell_type": "code",
      "metadata": {
        "colab": {
          "base_uri": "https://localhost:8080/"
        },
        "id": "1Rc97bc9u0Wu",
        "outputId": "b6ee496e-491b-43b6-a5f0-11e2cec36c97"
      },
      "source": [
        "print(\"Accuracy:\", accuracy_score(test_y, pred_3))"
      ],
      "execution_count": 85,
      "outputs": [
        {
          "output_type": "stream",
          "text": [
            "Accuracy: 0.7493670886075949\n"
          ],
          "name": "stdout"
        }
      ]
    },
    {
      "cell_type": "code",
      "metadata": {
        "colab": {
          "base_uri": "https://localhost:8080/"
        },
        "id": "pdKNaQSru5Ch",
        "outputId": "3f69ac85-d7df-4c09-c17b-d1ea6421cbbc"
      },
      "source": [
        "# Report for other classification measures\n",
        "print(\"Classification report:\")\n",
        "print(classification_report(test_y, pred_3))"
      ],
      "execution_count": 86,
      "outputs": [
        {
          "output_type": "stream",
          "text": [
            "Classification report:\n",
            "              precision    recall  f1-score   support\n",
            "\n",
            "           0       0.81      0.82      0.81       266\n",
            "           1       0.62      0.60      0.61       129\n",
            "\n",
            "    accuracy                           0.75       395\n",
            "   macro avg       0.71      0.71      0.71       395\n",
            "weighted avg       0.75      0.75      0.75       395\n",
            "\n"
          ],
          "name": "stdout"
        }
      ]
    },
    {
      "cell_type": "code",
      "metadata": {
        "colab": {
          "base_uri": "https://localhost:8080/"
        },
        "id": "LLCaWKmeu-Th",
        "outputId": "898d1b54-b40d-4483-80be-45889676d603"
      },
      "source": [
        "# And the confusion matrix\n",
        "print(\"Confusion matrix:\")\n",
        "print(confusion_matrix(test_y, pred_3))"
      ],
      "execution_count": 87,
      "outputs": [
        {
          "output_type": "stream",
          "text": [
            "Confusion matrix:\n",
            "[[218  48]\n",
            " [ 51  78]]\n"
          ],
          "name": "stdout"
        }
      ]
    },
    {
      "cell_type": "code",
      "metadata": {
        "colab": {
          "base_uri": "https://localhost:8080/",
          "height": 342
        },
        "id": "JWSGE7QBjJ4r",
        "outputId": "2020bd92-357e-405c-bfe2-763e5825dd6d"
      },
      "source": [
        "cnf_matrix = metrics.confusion_matrix(test_y, pred_3)\n",
        "cnf_matrix\n",
        "class_names=[0,1] # name  of classes\n",
        "fig, ax = plt.subplots()\n",
        "tick_marks = np.arange(len(class_names))\n",
        "plt.xticks(tick_marks, class_names)\n",
        "plt.yticks(tick_marks, class_names)\n",
        "# create heatmap\n",
        "sns.heatmap(pd.DataFrame(cnf_matrix), annot=True, cmap=\"YlGnBu\" ,fmt='g')\n",
        "ax.xaxis.set_label_position(\"top\")\n",
        "plt.tight_layout()\n",
        "plt.title('Confusion matrix', y=1.1)\n",
        "plt.ylabel('Actual label')\n",
        "plt.xlabel('Predicted label')"
      ],
      "execution_count": 88,
      "outputs": [
        {
          "output_type": "execute_result",
          "data": {
            "text/plain": [
              "Text(0.5, 257.44, 'Predicted label')"
            ]
          },
          "metadata": {
            "tags": []
          },
          "execution_count": 88
        },
        {
          "output_type": "display_data",
          "data": {
            "image/png": "[encoded data removed]",
            "text/plain": [
              "<Figure size 432x288 with 2 Axes>"
            ]
          },
          "metadata": {
            "tags": [],
            "needs_background": "light"
          }
        }
      ]
    },
    {
      "cell_type": "markdown",
      "metadata": {
        "id": "KxqaG6313Ulh"
      },
      "source": [
        "#**Random Forest**\n"
      ]
    },
    {
      "cell_type": "code",
      "metadata": {
        "id": "oNBHfkhD3i0k"
      },
      "source": [
        "from sklearn.ensemble import RandomForestClassifier"
      ],
      "execution_count": 89,
      "outputs": []
    },
    {
      "cell_type": "code",
      "metadata": {
        "id": "lGEiIRlM3zPl"
      },
      "source": [
        "ran=RandomForestClassifier(n_estimators=100)"
      ],
      "execution_count": 90,
      "outputs": []
    },
    {
      "cell_type": "code",
      "metadata": {
        "colab": {
          "base_uri": "https://localhost:8080/"
        },
        "id": "ffCcP71s31WS",
        "outputId": "47bcf6cd-894f-4774-d962-c44966cf44fe"
      },
      "source": [
        "ran.fit(train_X,train_y)"
      ],
      "execution_count": 91,
      "outputs": [
        {
          "output_type": "execute_result",
          "data": {
            "text/plain": [
              "RandomForestClassifier(bootstrap=True, ccp_alpha=0.0, class_weight=None,\n",
              "                       criterion='gini', max_depth=None, max_features='auto',\n",
              "                       max_leaf_nodes=None, max_samples=None,\n",
              "                       min_impurity_decrease=0.0, min_impurity_split=None,\n",
              "                       min_samples_leaf=1, min_samples_split=2,\n",
              "                       min_weight_fraction_leaf=0.0, n_estimators=100,\n",
              "                       n_jobs=None, oob_score=False, random_state=None,\n",
              "                       verbose=0, warm_start=False)"
            ]
          },
          "metadata": {
            "tags": []
          },
          "execution_count": 91
        }
      ]
    },
    {
      "cell_type": "code",
      "metadata": {
        "id": "s36R3Z4t4Csi"
      },
      "source": [
        "pred_4=ran.predict(test_X)"
      ],
      "execution_count": 92,
      "outputs": []
    },
    {
      "cell_type": "code",
      "metadata": {
        "colab": {
          "base_uri": "https://localhost:8080/"
        },
        "id": "MSprM4EF4Ge3",
        "outputId": "fcad7bc2-5dcb-4cd2-a937-411f3b80eaa6"
      },
      "source": [
        "print(pred_4[:10])"
      ],
      "execution_count": 93,
      "outputs": [
        {
          "output_type": "stream",
          "text": [
            "[0 1 0 1 0 0 0 0 0 0]\n"
          ],
          "name": "stdout"
        }
      ]
    },
    {
      "cell_type": "code",
      "metadata": {
        "colab": {
          "base_uri": "https://localhost:8080/"
        },
        "id": "vcgaJHoP4RGS",
        "outputId": "93c91b54-4cd3-46c8-cd18-92ab4b383e45"
      },
      "source": [
        "print(\"Accuracy:\", accuracy_score(test_y, pred_4))"
      ],
      "execution_count": 94,
      "outputs": [
        {
          "output_type": "stream",
          "text": [
            "Accuracy: 0.9822784810126582\n"
          ],
          "name": "stdout"
        }
      ]
    },
    {
      "cell_type": "code",
      "metadata": {
        "colab": {
          "base_uri": "https://localhost:8080/"
        },
        "id": "KfWdjeUe4arL",
        "outputId": "4cb874f4-0996-4d9b-c3bd-72546dcd17ac"
      },
      "source": [
        "# Report for other classification measures\n",
        "print(\"Classification report:\")\n",
        "print(classification_report(test_y, pred_4))"
      ],
      "execution_count": 95,
      "outputs": [
        {
          "output_type": "stream",
          "text": [
            "Classification report:\n",
            "              precision    recall  f1-score   support\n",
            "\n",
            "           0       0.99      0.98      0.99       266\n",
            "           1       0.96      0.98      0.97       129\n",
            "\n",
            "    accuracy                           0.98       395\n",
            "   macro avg       0.98      0.98      0.98       395\n",
            "weighted avg       0.98      0.98      0.98       395\n",
            "\n"
          ],
          "name": "stdout"
        }
      ]
    },
    {
      "cell_type": "code",
      "metadata": {
        "colab": {
          "base_uri": "https://localhost:8080/"
        },
        "id": "5ov0zuNq4jpn",
        "outputId": "123ee707-b71c-4dfa-8d35-323748235cd0"
      },
      "source": [
        "# And the confusion matrix\n",
        "print(\"Confusion matrix:\")\n",
        "print(confusion_matrix(test_y, pred_4))"
      ],
      "execution_count": 96,
      "outputs": [
        {
          "output_type": "stream",
          "text": [
            "Confusion matrix:\n",
            "[[261   5]\n",
            " [  2 127]]\n"
          ],
          "name": "stdout"
        }
      ]
    },
    {
      "cell_type": "code",
      "metadata": {
        "colab": {
          "base_uri": "https://localhost:8080/",
          "height": 342
        },
        "id": "mWXkbimk4nOW",
        "outputId": "5a4ad1f6-3fca-4169-9126-248de6d8e2f7"
      },
      "source": [
        "cnf_matrix = metrics.confusion_matrix(test_y, pred_4)\n",
        "cnf_matrix\n",
        "class_names=[0,1] # name  of classes\n",
        "fig, ax = plt.subplots()\n",
        "tick_marks = np.arange(len(class_names))\n",
        "plt.xticks(tick_marks, class_names)\n",
        "plt.yticks(tick_marks, class_names)\n",
        "# create heatmap\n",
        "sns.heatmap(pd.DataFrame(cnf_matrix), annot=True, cmap=\"YlGnBu\" ,fmt='g')\n",
        "ax.xaxis.set_label_position(\"top\")\n",
        "plt.tight_layout()\n",
        "plt.title('Confusion matrix', y=1.1)\n",
        "plt.ylabel('Actual label')\n",
        "plt.xlabel('Predicted label')"
      ],
      "execution_count": 97,
      "outputs": [
        {
          "output_type": "execute_result",
          "data": {
            "text/plain": [
              "Text(0.5, 257.44, 'Predicted label')"
            ]
          },
          "metadata": {
            "tags": []
          },
          "execution_count": 97
        },
        {
          "output_type": "display_data",
          "data": {
            "image/png": "[encoded data removed]",
            "text/plain": [
              "<Figure size 432x288 with 2 Axes>"
            ]
          },
          "metadata": {
            "tags": [],
            "needs_background": "light"
          }
        }
      ]
    },
    {
      "cell_type": "markdown",
      "metadata": {
        "id": "maHbswgsV8sQ"
      },
      "source": [
        "To compare the accuracy of four different models:"
      ]
    },
    {
      "cell_type": "code",
      "metadata": {
        "colab": {
          "base_uri": "https://localhost:8080/",
          "height": 173
        },
        "id": "k_HjclDTzAPL",
        "outputId": "7fb3d186-b0f7-4f67-9b95-6cee6f382a18"
      },
      "source": [
        "models = pd.DataFrame({\n",
        "    'Model': [ 'KNN', 'Decision Tree','Naive Bayes', 'Random Forest'],\n",
        "    'Accuracy': [accuracy_score(test_y, pred_1), accuracy_score(test_y, pred_2), accuracy_score(test_y, pred_3), accuracy_score(test_y, pred_4)]})\n",
        "models.sort_values(by='Accuracy', ascending=False)"
      ],
      "execution_count": 98,
      "outputs": [
        {
          "output_type": "execute_result",
          "data": {
            "text/html": [
              "<div>\n",
              "<style scoped>\n",
              "    .dataframe tbody tr th:only-of-type {\n",
              "        vertical-align: middle;\n",
              "    }\n",
              "\n",
              "    .dataframe tbody tr th {\n",
              "        vertical-align: top;\n",
              "    }\n",
              "\n",
              "    .dataframe thead th {\n",
              "        text-align: right;\n",
              "    }\n",
              "</style>\n",
              "<table border=\"1\" class=\"dataframe\">\n",
              "  <thead>\n",
              "    <tr style=\"text-align: right;\">\n",
              "      <th></th>\n",
              "      <th>Model</th>\n",
              "      <th>Accuracy</th>\n",
              "    </tr>\n",
              "  </thead>\n",
              "  <tbody>\n",
              "    <tr>\n",
              "      <th>3</th>\n",
              "      <td>Random Forest</td>\n",
              "      <td>0.982278</td>\n",
              "    </tr>\n",
              "    <tr>\n",
              "      <th>1</th>\n",
              "      <td>Decision Tree</td>\n",
              "      <td>0.969620</td>\n",
              "    </tr>\n",
              "    <tr>\n",
              "      <th>0</th>\n",
              "      <td>KNN</td>\n",
              "      <td>0.860759</td>\n",
              "    </tr>\n",
              "    <tr>\n",
              "      <th>2</th>\n",
              "      <td>Naive Bayes</td>\n",
              "      <td>0.749367</td>\n",
              "    </tr>\n",
              "  </tbody>\n",
              "</table>\n",
              "</div>"
            ],
            "text/plain": [
              "           Model  Accuracy\n",
              "3  Random Forest  0.982278\n",
              "1  Decision Tree  0.969620\n",
              "0            KNN  0.860759\n",
              "2    Naive Bayes  0.749367"
            ]
          },
          "metadata": {
            "tags": []
          },
          "execution_count": 98
        }
      ]
    },
    {
      "cell_type": "markdown",
      "metadata": {
        "id": "TUdGEty2yJ46"
      },
      "source": [
        "#**7. Discussion**\n",
        "\n",
        "##**Comparison between Models**\n",
        "Naive Bayes, decision trees and KNN, are examples of supervised learning (where the data comes already labelled).  Of the three methods, decision trees are the easiest to explain and understand. Most people understand hierarchical trees, and the availability of a clear diagram can help you to communicate your results. Conversely, the underlying mathematics behind Bayes Theorem can be very challenging to understand for the layperson. K-NN meets somewhere in the middle; Theoretically, you could reduce the K-NN process to an intuitive graphic, even if the underlying mechanism is probably beyond a layperson's level of understanding.\n",
        "\n",
        "The **K-nearest neighbour (KNN)** algorithm is one of the simplest and earliest classification algorithms. It can be thought a simpler version of an Naive Bayes (NB) classifier. Unlike the NB technique, the KNN algorithm does not require to consider probability values. The ‘K’ is the KNN algorithm is the number of nearest neighbours considered to take ‘vote’ from. We select these k nearest neighbors based on Euclidean distance. Among these k neighbours, the number of data points in each category is counted, and the new data point is assigned to that category where we got the most neighbours in.\n",
        "\n",
        "**Decision Tree Classification** is the most powerful classifier. A Decision tree is a flowchart like a tree structure, where each internal node denotes a test on an attribute (a condition), each branch represents an outcome of the test (True or False), and each leaf node (terminal node) holds a class label. A set of decision trees are built in parallel on tractable size training data sets which are a subset of the original data. Each learned decision tree will be reduced to a set of rules, conflicting rules resolved and the resultant rules merged into one set. Results from cross validation experiments on a data set suggest this approach may be effectively applied to large sets of data.\n",
        "\n",
        "**Naive Bayes Classifier** works on the basis of Bayes’ Theorem. The fundamental assumptions made are that all the features are independent of one another and contribute equally to the outcome; all are of equal importance. **But these assumptions are not always valid in real life** (disadvantage of Naive Bayes). It is a probabilistic classifier model whose crux is the Bayes’ theorem. From our predictions before, variables such as 'Insulin' may not be good indicator of diabetes, hence there is no wonder that NB method gives lower accuracy as it consider the contribution of each variable equally.\n",
        "\n",
        "**Random Forest** is considered as a highly accurate and robust method because of the number of decision trees participating in the process.Random forests can also handle missing values. There are two ways to handle these: using median values to replace continuous variables, and computing the proximity-weighted average of missing values.Random decision forests correct for decision trees' habit of overfitting to their training set.Random forests generally outperform decision trees.\n",
        "\n",
        "The dataset is quite imbalanced as mean for outcome is 0.34 which is leaning towards no diabetes. Therefore, Naive Bayes performed so poorly compared to KNN and DT because NB is not very good on imbalanced data.\n",
        "\n",
        "DT is better (more accurate in percentages) than KNN.\n",
        "This is due to the model will be easily influenced by majority class for KNN when K=1 is uded. However, in literature, it is not recommended to use K=1 in KNN (ie non-diabetic this case).\n",
        "\n",
        "Random Forest has the highest accuracy between all the models. It has better accuracy than DT because random forests can correct for the problem of DT which tends to overfit easily.\n",
        "\n",
        "\n",
        "##**Limitations**\n",
        "Due to the constraint of the dataset, we are unable to predict the types of diabetes.\n",
        "Oversampling or undersampling of data had not been carried out.\n",
        "\n",
        "##**Impacts**\n",
        "Machine Learning plays an important role in handling a huge set of data. By introducing an accurate prediction model, machine learning may help in introducing wearables, smartphones as well as other gadgets that are useful in monitoring and tracking a patient's status. Future studies can be done in order to make it an early diagnosis tool or even contribute in meal recommendation as well as an AI health advisor. Future research should be done to improve the dataset as well as working on predicting the probability of a non-diabetic person to develop diabetes in the next few years.\n"
      ]
    },
    {
      "cell_type": "markdown",
      "metadata": {
        "id": "_BRaT_Bf88XK"
      },
      "source": [
        "#**8. Conclusion**\n",
        "In conclusion, diabetes is a rising issue in modern days that should not be neglected. Data analytics and machine learning can be used to determine the hidden trend or information from the datasets which helps in further predictions. In this project, a few classification methods are studied and their accuracy are compared, in which Random Forest Classifier gives the highest accuracy (0.982), followed by Decision Tree (0.970), k-nearest Neighbour (0.861) and lastly, Gaussian Naive Bayes with the lowest accuracy (0.749). It can be concluded that Random Forest Classifier is the best model for this classification task. Future research should be done to improve the dataset as well as working on predicting the probability of a non-diabetic person to develop diabetes in the next few years."
      ]
    }
  ]
}